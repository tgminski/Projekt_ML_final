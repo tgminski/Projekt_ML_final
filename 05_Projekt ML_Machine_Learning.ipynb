{
 "cells": [
  {
   "cell_type": "markdown",
   "id": "a51d97ab",
   "metadata": {},
   "source": [
    "# Projekt ML.\n",
    "\n",
    "Do analizy przyjęto dane ze zbiotu 'cars.csv'\n",
    "\n",
    "Zestawy danych przygotowano w części \"Projekt ML, przygotowanie danych\"\n",
    "\n",
    "## Cel analizy: Od czego zależy bardziej ekonomiczne zużycie paliwa? Czy da się przewidzieć zużycie paliwa na podstawie danych ze zbioru?\n",
    "\n",
    "Uczenie maszynowe będzie wykorzystywać regresję.\n",
    "\n",
    "Dane do przetwarzania przygotowano z zamiarem pokazania wpływu jakości danych na efekty uczenia maszynowego.\n",
    "\n",
    "Przygotowane zbiory danych:\n",
    "\n",
    "Zbiór 1. Dane kategoryczne zostaną potraktowane jako liczbowe, kolumna 'names' nie bierze udziału w ML\n",
    "\n",
    "Zbiór 2. Dane kategoryczne 'origin' rozdzielone (dummies), reszta danych jako dane liczbowe, kolumna 'names' nie bierze udziału w ML\n",
    "\n",
    "Zbiór 3. Dane kategoryczne 'origin' i 'displacement' rozdzielone (dummies), reszta danych jako dane liczbowe, kolumna 'names' nie bierze udziału w ML\n",
    "\n",
    "Zbiór 4. Dane kategoryczne 'origin' i 'displacement' rozdzielone (dummies), reszta danych jako dane liczbowe, kolumna 'names' zostaje rozpisana na słownik i bierze udział w ML  (taka namiastka LLM, to jest dobry moment na uśmiech)\n",
    "\n",
    "Zbiór 5. Do danych kategorycznych 'origin' (Zbiór 2) zostają dodane dodatkowe 4 cechy (features)\n",
    "\n",
    "Zbiór 6. Dane pierwotne wstępnie opracowane statystycznie\n",
    "\n",
    "Zbiór 7. Dane pierwotne wstępnie opracowane statystycznie z usunięciem wartości odstających (outliers)\n",
    "\n",
    "Zbiór 8. Dane pierwotne wstępnie opracowane statystycznie z zastosowaniem transformacji logarytmicznych - rozkłady bardziej zbliżone do normalnego\n",
    "\n",
    "# Uczenie maszynowe z wykorzystaniem algorytmu sklearn LinearRegression\n",
    "\n",
    "W celu pokazania jak radzą sobie inne algorytmy ML pokazano parametry uczenia dla KNeighborsRegressor, RandomForestRegressor oraz xgboost. Chodzi o pokazanie punktu odniesienia.\n",
    "\n",
    "\n",
    "Hiperparametry algorytmów uczenia maszynowego nie są optymalizowane, przyjęto wartiości \"przyzwoite\"\n",
    "\n",
    "Ocena uczenia realizowana jest metodą .score()"
   ]
  },
  {
   "cell_type": "code",
   "execution_count": 53,
   "id": "0a0e3a76",
   "metadata": {},
   "outputs": [],
   "source": [
    "# import potrzebnych bibliotek\n",
    "import numpy as np\n",
    "import pandas as pd\n",
    "import seaborn as sns\n",
    "\n",
    "from sklearn.model_selection import train_test_split, GridSearchCV, KFold, cross_val_score\n",
    "from sklearn.preprocessing import StandardScaler\n",
    "from sklearn.metrics import mean_absolute_error, mean_squared_error, r2_score\n",
    "\n",
    "\n",
    "from sklearn.linear_model import LinearRegression\n",
    "from sklearn.neighbors import KNeighborsRegressor\n",
    "from sklearn.ensemble import RandomForestRegressor\n",
    "import xgboost as xg\n"
   ]
  },
  {
   "cell_type": "code",
   "execution_count": 54,
   "id": "68fbef97",
   "metadata": {},
   "outputs": [],
   "source": [
    "# wyłączenie komunikatów warnings dla większej czytelności\n",
    "# w tym przypadku poniższy kod generuje ostrzeżenia dla xgboost\n",
    "import warnings\n",
    "warnings.simplefilter(action='ignore', category=Warning)"
   ]
  },
  {
   "cell_type": "code",
   "execution_count": 55,
   "id": "fb185805",
   "metadata": {},
   "outputs": [],
   "source": [
    "# przygotowanie zestawienia zbiorów\n",
    "data_file_names = [ 'cars_4_ML_no_dummy_cleared.csv', 'cars_4_ML_dummy_origin_cleared.csv',\n",
    "              'cars_4_ML_dummy_all_cleared.csv', 'cars_4_ML_dummy_all_LLM_cleared.csv', 'cars_4_ML_dummy_origin_cleared_features.csv',\n",
    "              'cars_preprocessed.csv', 'cars_clean_final.csv', 'cars_log_only.csv']\n",
    "data_names = [ 'num', 'num_cat_origin', 'num_cat_all', 'num_cat_all_LLM', 'num_cat_origin_features',\n",
    "              'preprocessed', 'clean_final',  'log_only']"
   ]
  },
  {
   "cell_type": "code",
   "execution_count": 56,
   "id": "1a69561b",
   "metadata": {},
   "outputs": [],
   "source": [
    "# przygotowanie zestawienia modeli\n",
    "model_lin = LinearRegression()\n",
    "model_knn = KNeighborsRegressor(n_neighbors=5)\n",
    "model_rf = RandomForestRegressor(n_estimators=100, random_state=0, n_jobs=-1)\n",
    "model_xgb = xg.XGBRegressor(objective ='reg:linear', n_estimators = 100, seed = 0)\n",
    "\n",
    "models = [ model_lin, model_knn, model_rf, model_xgb ]\n",
    "models_names = [ 'model_lin', 'model_knn', 'model_rf', 'model_xgb' ]"
   ]
  },
  {
   "cell_type": "code",
   "execution_count": 57,
   "id": "48781fb6",
   "metadata": {},
   "outputs": [
    {
     "name": "stdout",
     "output_type": "stream",
     "text": [
      "                  data_name model_name score_train score_test\n",
      "0                       num  model_lin    0.832622   0.828823\n",
      "1                       num  model_knn     0.89511   0.870602\n",
      "2                       num   model_rf    0.980802   0.909116\n",
      "3                       num  model_xgb    0.999989   0.908028\n",
      "4            num_cat_origin  model_lin    0.876747   0.848826\n",
      "5            num_cat_origin  model_knn    0.927059   0.893803\n",
      "6            num_cat_origin   model_rf      0.9869   0.918743\n",
      "7            num_cat_origin  model_xgb    0.999992   0.908184\n",
      "8               num_cat_all  model_lin    0.886706   0.820164\n",
      "9               num_cat_all  model_knn    0.929549    0.85214\n",
      "10              num_cat_all   model_rf    0.986673   0.893801\n",
      "11              num_cat_all  model_xgb    0.999994   0.893935\n",
      "12          num_cat_all_LLM  model_lin    0.982354   0.772834\n",
      "13          num_cat_all_LLM  model_knn    0.793263   0.669914\n",
      "14          num_cat_all_LLM   model_rf    0.987511   0.892282\n",
      "15          num_cat_all_LLM  model_xgb    0.999681    0.87426\n",
      "16  num_cat_origin_features  model_lin    0.909077   0.889965\n",
      "17  num_cat_origin_features  model_knn    0.925523   0.911516\n",
      "18  num_cat_origin_features   model_rf    0.985899   0.904202\n",
      "19  num_cat_origin_features  model_xgb    0.999998   0.922095\n",
      "20             preprocessed  model_lin     0.83882   0.793555\n",
      "21             preprocessed  model_knn    0.915986   0.803502\n",
      "22             preprocessed   model_rf    0.986521   0.803446\n",
      "23             preprocessed  model_xgb    0.999983   0.813571\n",
      "24              clean_final  model_lin    0.832622   0.828823\n",
      "25              clean_final  model_knn     0.89511   0.870602\n",
      "26              clean_final   model_rf    0.980802   0.909116\n",
      "27              clean_final  model_xgb    0.999989   0.908028\n",
      "28                 log_only  model_lin    0.862544   0.858936\n",
      "29                 log_only  model_knn    0.899292    0.87982\n",
      "30                 log_only   model_rf    0.980535   0.908595\n",
      "31                 log_only  model_xgb    0.999989   0.906746\n"
     ]
    }
   ],
   "source": [
    "results = pd.DataFrame(columns= ['data_name', 'model_name', 'score_train', 'score_test', 'model'])\n",
    "for data in data_names:\n",
    "    #print(data)\n",
    "    df = pd.read_csv(data_file_names[data_names.index(data)])\n",
    "    X_no_scaler = df.drop(columns=['name', 'mpg']).values\n",
    "    scaler_x = StandardScaler()\n",
    "    X = scaler_x.fit_transform(X_no_scaler)\n",
    "    y_no_scaler = df['mpg'].values.reshape((-1,1))\n",
    "    scaler_y = StandardScaler()\n",
    "    y = scaler_y.fit_transform(y_no_scaler).reshape((-1,))\n",
    "    \n",
    "    X_train, X_test, y_train, y_test = train_test_split(X, y, test_size=0.2, random_state=0)\n",
    "    \n",
    "    for model in models:\n",
    "        model_name = models_names[models.index(model)]\n",
    "        model.fit(X_train, y_train)\n",
    "        \n",
    "        score_train = model.score(X_train, y_train)\n",
    "        score_test = model.score(X_test, y_test)\n",
    "\n",
    "        index = len(results)\n",
    "        results.loc[index,'data_name'] = data\n",
    "        results.loc[index,'model_name'] = model_name\n",
    "        results.loc[index,'score_train'] = score_train\n",
    "        results.loc[index,'score_test'] = score_test\n",
    "        results.loc[index,'model'] = model\n",
    "        \n",
    "        \n",
    "    \n",
    "print(results.iloc[:,:4])"
   ]
  },
  {
   "cell_type": "code",
   "execution_count": 58,
   "id": "e752ee46",
   "metadata": {},
   "outputs": [
    {
     "name": "stdout",
     "output_type": "stream",
     "text": [
      "  data_name model_name score_train score_test\n",
      "0       num  model_lin    0.832622   0.828823\n",
      "1       num  model_knn     0.89511   0.870602\n",
      "2       num   model_rf    0.980802   0.909116\n",
      "3       num  model_xgb    0.999989   0.908028\n",
      "        data_name model_name score_train score_test\n",
      "4  num_cat_origin  model_lin    0.876747   0.848826\n",
      "5  num_cat_origin  model_knn    0.927059   0.893803\n",
      "6  num_cat_origin   model_rf      0.9869   0.918743\n",
      "7  num_cat_origin  model_xgb    0.999992   0.908184\n",
      "      data_name model_name score_train score_test\n",
      "8   num_cat_all  model_lin    0.886706   0.820164\n",
      "9   num_cat_all  model_knn    0.929549    0.85214\n",
      "10  num_cat_all   model_rf    0.986673   0.893801\n",
      "11  num_cat_all  model_xgb    0.999994   0.893935\n",
      "          data_name model_name score_train score_test\n",
      "12  num_cat_all_LLM  model_lin    0.982354   0.772834\n",
      "13  num_cat_all_LLM  model_knn    0.793263   0.669914\n",
      "14  num_cat_all_LLM   model_rf    0.987511   0.892282\n",
      "15  num_cat_all_LLM  model_xgb    0.999681    0.87426\n",
      "                  data_name model_name score_train score_test\n",
      "16  num_cat_origin_features  model_lin    0.909077   0.889965\n",
      "17  num_cat_origin_features  model_knn    0.925523   0.911516\n",
      "18  num_cat_origin_features   model_rf    0.985899   0.904202\n",
      "19  num_cat_origin_features  model_xgb    0.999998   0.922095\n",
      "       data_name model_name score_train score_test\n",
      "20  preprocessed  model_lin     0.83882   0.793555\n",
      "21  preprocessed  model_knn    0.915986   0.803502\n",
      "22  preprocessed   model_rf    0.986521   0.803446\n",
      "23  preprocessed  model_xgb    0.999983   0.813571\n",
      "      data_name model_name score_train score_test\n",
      "24  clean_final  model_lin    0.832622   0.828823\n",
      "25  clean_final  model_knn     0.89511   0.870602\n",
      "26  clean_final   model_rf    0.980802   0.909116\n",
      "27  clean_final  model_xgb    0.999989   0.908028\n",
      "   data_name model_name score_train score_test\n",
      "28  log_only  model_lin    0.862544   0.858936\n",
      "29  log_only  model_knn    0.899292    0.87982\n",
      "30  log_only   model_rf    0.980535   0.908595\n",
      "31  log_only  model_xgb    0.999989   0.906746\n"
     ]
    }
   ],
   "source": [
    "# wyniki dla danych\n",
    "for data in data_names:\n",
    "    print(results.iloc[:,:4][ results['data_name']==data] )"
   ]
  },
  {
   "cell_type": "code",
   "execution_count": 59,
   "id": "14167aa2",
   "metadata": {},
   "outputs": [
    {
     "name": "stdout",
     "output_type": "stream",
     "text": [
      "                  data_name model_name score_train score_test\n",
      "0                       num  model_lin    0.832622   0.828823\n",
      "4            num_cat_origin  model_lin    0.876747   0.848826\n",
      "8               num_cat_all  model_lin    0.886706   0.820164\n",
      "12          num_cat_all_LLM  model_lin    0.982354   0.772834\n",
      "16  num_cat_origin_features  model_lin    0.909077   0.889965\n",
      "20             preprocessed  model_lin     0.83882   0.793555\n",
      "24              clean_final  model_lin    0.832622   0.828823\n",
      "28                 log_only  model_lin    0.862544   0.858936\n",
      "                  data_name model_name score_train score_test\n",
      "1                       num  model_knn     0.89511   0.870602\n",
      "5            num_cat_origin  model_knn    0.927059   0.893803\n",
      "9               num_cat_all  model_knn    0.929549    0.85214\n",
      "13          num_cat_all_LLM  model_knn    0.793263   0.669914\n",
      "17  num_cat_origin_features  model_knn    0.925523   0.911516\n",
      "21             preprocessed  model_knn    0.915986   0.803502\n",
      "25              clean_final  model_knn     0.89511   0.870602\n",
      "29                 log_only  model_knn    0.899292    0.87982\n",
      "                  data_name model_name score_train score_test\n",
      "2                       num   model_rf    0.980802   0.909116\n",
      "6            num_cat_origin   model_rf      0.9869   0.918743\n",
      "10              num_cat_all   model_rf    0.986673   0.893801\n",
      "14          num_cat_all_LLM   model_rf    0.987511   0.892282\n",
      "18  num_cat_origin_features   model_rf    0.985899   0.904202\n",
      "22             preprocessed   model_rf    0.986521   0.803446\n",
      "26              clean_final   model_rf    0.980802   0.909116\n",
      "30                 log_only   model_rf    0.980535   0.908595\n",
      "                  data_name model_name score_train score_test\n",
      "3                       num  model_xgb    0.999989   0.908028\n",
      "7            num_cat_origin  model_xgb    0.999992   0.908184\n",
      "11              num_cat_all  model_xgb    0.999994   0.893935\n",
      "15          num_cat_all_LLM  model_xgb    0.999681    0.87426\n",
      "19  num_cat_origin_features  model_xgb    0.999998   0.922095\n",
      "23             preprocessed  model_xgb    0.999983   0.813571\n",
      "27              clean_final  model_xgb    0.999989   0.908028\n",
      "31                 log_only  model_xgb    0.999989   0.906746\n"
     ]
    }
   ],
   "source": [
    "# wyniki dla modeli\n",
    "for model_n in models_names:\n",
    "    print(results.iloc[:,:4][ results['model_name']==model_n] )"
   ]
  },
  {
   "cell_type": "code",
   "execution_count": 60,
   "id": "6f04a1fe",
   "metadata": {},
   "outputs": [
    {
     "name": "stdout",
     "output_type": "stream",
     "text": [
      "Najlepsze wyniki dla danych testowych:\n",
      "                  data_name model_name score_train score_test\n",
      "19  num_cat_origin_features  model_xgb    0.999998   0.922095\n",
      "6            num_cat_origin   model_rf      0.9869   0.918743\n",
      "17  num_cat_origin_features  model_knn    0.925523   0.911516\n",
      "2                       num   model_rf    0.980802   0.909116\n",
      "26              clean_final   model_rf    0.980802   0.909116\n",
      "30                 log_only   model_rf    0.980535   0.908595\n",
      "7            num_cat_origin  model_xgb    0.999992   0.908184\n",
      "3                       num  model_xgb    0.999989   0.908028\n",
      "27              clean_final  model_xgb    0.999989   0.908028\n",
      "31                 log_only  model_xgb    0.999989   0.906746\n",
      "18  num_cat_origin_features   model_rf    0.985899   0.904202\n",
      "11              num_cat_all  model_xgb    0.999994   0.893935\n",
      "5            num_cat_origin  model_knn    0.927059   0.893803\n",
      "10              num_cat_all   model_rf    0.986673   0.893801\n",
      "14          num_cat_all_LLM   model_rf    0.987511   0.892282\n",
      "16  num_cat_origin_features  model_lin    0.909077   0.889965\n",
      "29                 log_only  model_knn    0.899292    0.87982\n",
      "15          num_cat_all_LLM  model_xgb    0.999681    0.87426\n",
      "1                       num  model_knn     0.89511   0.870602\n",
      "25              clean_final  model_knn     0.89511   0.870602\n",
      "28                 log_only  model_lin    0.862544   0.858936\n",
      "9               num_cat_all  model_knn    0.929549    0.85214\n",
      "4            num_cat_origin  model_lin    0.876747   0.848826\n",
      "24              clean_final  model_lin    0.832622   0.828823\n",
      "0                       num  model_lin    0.832622   0.828823\n",
      "8               num_cat_all  model_lin    0.886706   0.820164\n",
      "23             preprocessed  model_xgb    0.999983   0.813571\n",
      "21             preprocessed  model_knn    0.915986   0.803502\n",
      "22             preprocessed   model_rf    0.986521   0.803446\n",
      "20             preprocessed  model_lin     0.83882   0.793555\n",
      "12          num_cat_all_LLM  model_lin    0.982354   0.772834\n",
      "13          num_cat_all_LLM  model_knn    0.793263   0.669914\n"
     ]
    }
   ],
   "source": [
    "# najlepsze wyniki dla danych testowych\n",
    "print('Najlepsze wyniki dla danych testowych:')\n",
    "print(results.iloc[:,:4].sort_values(by=['score_test'], ascending=False))"
   ]
  },
  {
   "cell_type": "code",
   "execution_count": 61,
   "id": "9ce496a1",
   "metadata": {},
   "outputs": [
    {
     "data": {
      "image/png": "[encoded data removed]",
      "text/plain": [
       "<Figure size 640x480 with 1 Axes>"
      ]
     },
     "metadata": {},
     "output_type": "display_data"
    }
   ],
   "source": [
    "ax = sns.scatterplot(data=results, x='score_train', y='score_test', hue='data_name', style='model_name')\n",
    "sns.move_legend(ax, \"upper left\", bbox_to_anchor=(1, 1))"
   ]
  },
  {
   "cell_type": "markdown",
   "id": "5b71bdd6",
   "metadata": {},
   "source": [
    "Metoda LinearRegression daje całkiem niezłe wyniki. Wyniki są mocno zależne od danych, które są przedstawiane do uczenia i testowania. Za wyjątkiem zastosowania zbioru danych ze słownikiem LLM metoda LinearRegression nie wykazuje objawów przeuczenia. Dla naszych danych może to świadczyć o bardzo dobrej jakości uczenia tej metody.\n",
    "\n",
    "Dla wyników dla zbiorów testowych (score_test) stosując odpowiednie opracowanie zbioru wejściowego można uzyskać dokładność na poziomie znacznie bardziej zaawansowanych metod uczenia maszynowego.\n",
    "\n",
    "Zaznaczam, że metody RandomForestRegressor oraz XGboost nie były optymalizowane, służą tylko jako punkt odniesienia. W naszym przypadku dla tych metod występuje efekt przeuczenia. Szczegółłowe analizowanie tych metopd nie jest przedmiotem tego opracowania.\n",
    "\n",
    "W naszym przypadku zjawisko przeuczenia modelu jest określane na podstawie relacji oceny dla danych uczących i oceny dla danych testowych. Jeśli wartości ocen odbiegają od siebie, to mamy do czynienia z przeuczeniem. Takie określanie zjawiska przeuczenia modelu jest uproszczeniem, ale na potrzeby tego opracowania jest wystarczające."
   ]
  },
  {
   "cell_type": "markdown",
   "id": "32e12bc6",
   "metadata": {},
   "source": [
    "## Analiza wyników dla modelu LinearRegression\n",
    "\n",
    "## Podstawowym kryterium oceny jest wynik dla danych testowych (score_test)"
   ]
  },
  {
   "cell_type": "code",
   "execution_count": 62,
   "id": "78093141",
   "metadata": {},
   "outputs": [
    {
     "name": "stdout",
     "output_type": "stream",
     "text": [
      "                  data_name model_name score_train score_test\n",
      "0                       num  model_lin    0.832622   0.828823\n",
      "4            num_cat_origin  model_lin    0.876747   0.848826\n",
      "8               num_cat_all  model_lin    0.886706   0.820164\n",
      "12          num_cat_all_LLM  model_lin    0.982354   0.772834\n",
      "16  num_cat_origin_features  model_lin    0.909077   0.889965\n",
      "20             preprocessed  model_lin     0.83882   0.793555\n",
      "24              clean_final  model_lin    0.832622   0.828823\n",
      "28                 log_only  model_lin    0.862544   0.858936\n"
     ]
    }
   ],
   "source": [
    "# Ogólne wyniki dla LinearRegression()\n",
    "print(results.iloc[:,:4][ results['model_name']=='model_lin'] )"
   ]
  },
  {
   "cell_type": "markdown",
   "id": "93ecba25",
   "metadata": {},
   "source": [
    "Dla większości zbiorów wartości oceny dla danych uczących i testowych są zbliżone. Fakt ten można interpretować jako brak zjawiska przeuczenia modelu.\n",
    "\n",
    "Wyjątkiem jest zbiór wykorzystujący słownik LLM dla kolumny names. Dla tego przypadku ocena dla zbioru testowego jest wyraźnie niższa. Prawdopodobnie występuje zjawisko przeuczenia związane z małą ilością rekordów w bazie. W tym przypadku można powiedzieć, że jest duże prawdopodobieństwo, że dane w zbiorze testowym są nieznane w kontekście zbioru słownika LLM."
   ]
  },
  {
   "cell_type": "code",
   "execution_count": 63,
   "id": "2f4e3ad4",
   "metadata": {},
   "outputs": [
    {
     "name": "stdout",
     "output_type": "stream",
     "text": [
      "      data_name model_name score_train score_test\n",
      "0           num  model_lin    0.832622   0.828823\n",
      "24  clean_final  model_lin    0.832622   0.828823\n"
     ]
    }
   ],
   "source": [
    "# zbiory odniesienia\n",
    "print(results.iloc[:,:4][ results['model_name']=='model_lin'][(results['data_name']=='num') | (results['data_name']=='clean_final')] )"
   ]
  },
  {
   "cell_type": "markdown",
   "id": "229273c8",
   "metadata": {},
   "source": [
    "Jako zbiory odniesienia traktowane są:\n",
    "\n",
    "* Zbiór 1 - 'num'\n",
    "\n",
    "* Zbiór 7 - 'clean_final'\n",
    "\n",
    "Obydwa zbiory danych wejściowych zostały uzyskane poprzez różną obróbkę statystyczną i usunięcie wartości odstających.\n",
    "\n",
    "W tym przypadku w sensie oceny uzyskano takie same wyniki."
   ]
  },
  {
   "cell_type": "code",
   "execution_count": 64,
   "id": "2abab85e",
   "metadata": {},
   "outputs": [
    {
     "name": "stdout",
     "output_type": "stream",
     "text": [
      "       data_name model_name score_train score_test\n",
      "20  preprocessed  model_lin     0.83882   0.793555\n",
      "24   clean_final  model_lin    0.832622   0.828823\n"
     ]
    }
   ],
   "source": [
    "# usunięcie zmiennych odstających - poprawienie rozkładów zmiennych, zbliżenie się do rozkładów normalnych\n",
    "print(results.iloc[[20, 24],:4][ results['model_name']=='model_lin'] )"
   ]
  },
  {
   "cell_type": "markdown",
   "id": "f801748a",
   "metadata": {},
   "source": [
    "Ze Zbioru 6 ('preprocessed') usunięto wartości odstające metodą Q1, Q3, 1,5*IQR - uzyskano Zbiór 7 ('clean_final'). Spowodowało to przybliżenie się rozkładów do rozkładu normalnego. Efekt widać w postaci poprawy oceny dla zbioru testowego o ponad 3%."
   ]
  },
  {
   "cell_type": "code",
   "execution_count": 65,
   "id": "c18b3d2b",
   "metadata": {},
   "outputs": [
    {
     "name": "stdout",
     "output_type": "stream",
     "text": [
      "      data_name model_name score_train score_test\n",
      "24  clean_final  model_lin    0.832622   0.828823\n",
      "28     log_only  model_lin    0.862544   0.858936\n"
     ]
    }
   ],
   "source": [
    "# poprawienie rozkładów zmiennych, zbliżenie się do rozkładów normalnych\n",
    "print(results.iloc[[24, 28],:4][ results['model_name']=='model_lin'] )"
   ]
  },
  {
   "cell_type": "markdown",
   "id": "cd34c347",
   "metadata": {},
   "source": [
    "Dla zbioru 8 ('log_only') zadrosowano transformację 3 cech poprzez logarytmowanie. Celem było zbliżenie się rozkładu cech do rozkładu normalnego. Regresja liniowa w tej postaci powinna osiągać lepsze wyniki dla danych zbliżonych do rozkładów normalnych.\n",
    "\n",
    "Po zastosowaniu transformacji logarytmicznej wynik dla danych testowych poprawił się o 3%. Na tym poziomie jest to całkiem niezła poprawa."
   ]
  },
  {
   "cell_type": "code",
   "execution_count": 66,
   "id": "749aa713",
   "metadata": {},
   "outputs": [
    {
     "name": "stdout",
     "output_type": "stream",
     "text": [
      "          data_name model_name score_train score_test\n",
      "0               num  model_lin    0.832622   0.828823\n",
      "4    num_cat_origin  model_lin    0.876747   0.848826\n",
      "8       num_cat_all  model_lin    0.886706   0.820164\n",
      "12  num_cat_all_LLM  model_lin    0.982354   0.772834\n"
     ]
    }
   ],
   "source": [
    "# potraktowanie cech jako zmienne kategoryczne (dummies)\n",
    "print(results.iloc[[0, 4, 8, 12],:4][ results['model_name']=='model_lin'] )"
   ]
  },
  {
   "cell_type": "markdown",
   "id": "e4921152",
   "metadata": {},
   "source": [
    "Potraktowanie zmiennej 'origin' (kraj pochodzenia) jako kategorycznej i ujęcie jaj jako 'dummies' polepszyło wyniki dla zbioru uczącego i testowego - Zbiór 2 ('num_cat_origin'). Interpretować to można jako dowód na to, że ta zmienna jest typu kategorycznego, nie należy jej traktować jako zmienną numeryczną.\n",
    "\n",
    "W dalszej kolejności do zmiennych kategorycznych dodano 'cylinders' (ilość cylindrów), Zbiór 3 ('num_cat_all'). W tym przypadku uzyskano polepszenie oceny zbioru uczącego, ale pogorszenie oceny zbioru testowego. Interpretujemy to jako wskazówkę, że zmienną 'cylinders' należy traktować jako numeryczną.\n",
    "\n",
    "Następnie podjęto próbę wykorzystania informacji tekstowej z kolumny 'names', dane Zbiór 4 ('num_cat_all_LLM'). Stworzony został słownik słów występujących w kolumnie 'names', słownik posłużył do wygenerowania następnych 240 cech, traktowanych jako kategorie (dummies). Słownik składa się z pojedyńczych słów, nie używano zlepków słownych. W tym zbiorze występują kolumny 'origin' i 'cylinders' w rozbiciu na 'dummies'. Użycie podejścia słownikowego dało znaczną poprawę dla danych uczących, ale słabszą ocenę dla danych testowych. Ten efekt interpretujemy jako wystąpienie przeuczenia. W tym ujęciu prawdopodobnie jest za mało danych, dane testowe są raczej nieznane w kontekście danych uczących. Dla naszego zbioru to podejście powoduje istotne pogorszenie oceny dla danych testoiwych."
   ]
  },
  {
   "cell_type": "code",
   "execution_count": 67,
   "id": "0621cdeb",
   "metadata": {},
   "outputs": [
    {
     "name": "stdout",
     "output_type": "stream",
     "text": [
      "                  data_name model_name score_train score_test\n",
      "4            num_cat_origin  model_lin    0.876747   0.848826\n",
      "16  num_cat_origin_features  model_lin    0.909077   0.889965\n"
     ]
    }
   ],
   "source": [
    "# dodanie dodatkowych cech (features) ujmujących relacje pomiedzy pierwotnymi cechami w danych\n",
    "print(results.iloc[[4, 16],:4][ results['model_name']=='model_lin'] )"
   ]
  },
  {
   "cell_type": "markdown",
   "id": "cd85c36d",
   "metadata": {},
   "source": [
    "Do Zbioru 2 z kolumną 'origin' potraktowaną jako dane kategoryczne dodano dodatkowe 4 cechy (features). Uzyskano jednoczesną poprawę oceny danych uczących i danych testowych. Przy tych poziomach poprawa o 3% jest znacząca. Interpretować to można jako istnienie w danych istotnych relacji pomiędzy cechami."
   ]
  },
  {
   "cell_type": "markdown",
   "id": "c030ec31",
   "metadata": {},
   "source": [
    "Model liniowy dla danych \"num_cat_origin_features\" osiągnął najlepsze efekty spośród rozpatrywanych.\n",
    "\n",
    "Szczegółoowe parametry modelu:"
   ]
  },
  {
   "cell_type": "code",
   "execution_count": 68,
   "id": "5d3b0c03",
   "metadata": {},
   "outputs": [
    {
     "name": "stdout",
     "output_type": "stream",
     "text": [
      "                  data_name model_name score_train score_test\n",
      "16  num_cat_origin_features  model_lin    0.909077   0.889965\n",
      " \n",
      "{'copy_X': True, 'fit_intercept': True, 'n_jobs': None, 'positive': False, 'tol': 1e-06}\n"
     ]
    }
   ],
   "source": [
    "print(results.iloc[[16],:4][ results['model_name']=='model_lin'] )\n",
    "print(' ')\n",
    "# Parametry metody LinearRegression\n",
    "print(results.iloc[16,4].get_params())"
   ]
  },
  {
   "cell_type": "code",
   "execution_count": 69,
   "id": "67a85e8d",
   "metadata": {},
   "outputs": [
    {
     "name": "stdout",
     "output_type": "stream",
     "text": [
      "[ 0.08663732 -0.10941162  0.32891913  0.07196419 -0.26318667 -0.27112298\n",
      " -0.35924682]\n"
     ]
    }
   ],
   "source": [
    "# współczynniki .coef_\n",
    "print(results.iloc[16,4].coef_)"
   ]
  },
  {
   "cell_type": "markdown",
   "id": "bd797fdf",
   "metadata": {},
   "source": [
    "Dla metody LinearRegression współczynniki reprezentują sposób obliczania wyniku. Jest to reprezentacja wiedzy wyekstrachowanej ze zbioru danych.\n",
    "\n",
    "Dużą zaletą metody LinearRegression jest łatwość interpretowania wiedzy wynikającej z nauczenia się danych i intuicyjna zrozumioałość interpretacji dla człowieka."
   ]
  },
  {
   "cell_type": "code",
   "execution_count": 70,
   "id": "89429dfa",
   "metadata": {},
   "outputs": [],
   "source": [
    "#print(results.iloc[16,4].summary())"
   ]
  },
  {
   "cell_type": "markdown",
   "id": "09339737",
   "metadata": {},
   "source": [
    "Na tym etapie ze względu na ograniczenia czasowe zakończyliśmy analizę. Głównie skupiliśmy się na pokazaniu wpływu opracowania danych na uzyskiwane wyniki uczenia maszynowego.\n",
    "\n",
    "Mamy śwadomość, że połączenie: opracoweania danych, transformacji zbliżających do rozkładów normalnych, dodatkowych cech (features), rozdziałów na odpowiednie zbiory da w wyniku jeszcze lepsze wyniki uczenia maszynowego.\n",
    "\n",
    "Warto zauważyć, że stosując niby prosty model regresji liniowej można osiągnąć wyniki porównywalne ze znacznie bardziej zaawansowanymi metodami uczenia maszynowego (RTF, XGBoost)."
   ]
  },
  {
   "cell_type": "markdown",
   "id": "3e297d4b",
   "metadata": {},
   "source": [
    "# Wyznaczenie norm opisujących dopasowanie do zbioru\n",
    "\n",
    "Dotychczas wykorzystywaliśny do oceny uczenia metodę .score() . Przede wszystkim chodziło o możlowość porównywania wyników.\n",
    "\n",
    "Zastosowanie innych norm może dać inne wyniki porównania. Wybór normy do porównania jest ściśle związany z oczekiwanymi efektami uczenia maszynowego.\n",
    "\n",
    "Obliczenie innych norm:"
   ]
  },
  {
   "cell_type": "code",
   "execution_count": 71,
   "id": "9ac6b629",
   "metadata": {},
   "outputs": [
    {
     "data": {
      "application/vnd.microsoft.datawrangler.viewer.v0+json": {
       "columns": [
        {
         "name": "index",
         "rawType": "int64",
         "type": "integer"
        },
        {
         "name": "data",
         "rawType": "object",
         "type": "string"
        },
        {
         "name": "model",
         "rawType": "object",
         "type": "string"
        },
        {
         "name": "MAE",
         "rawType": "float64",
         "type": "float"
        },
        {
         "name": "RMSE",
         "rawType": "float64",
         "type": "float"
        },
        {
         "name": "R2",
         "rawType": "float64",
         "type": "float"
        },
        {
         "name": "CV_RMSE_mean",
         "rawType": "float64",
         "type": "float"
        },
        {
         "name": "CV_RMSE_std",
         "rawType": "float64",
         "type": "float"
        }
       ],
       "ref": "8cc8d618-3a2c-46c5-8a40-6b3a7e7285a9",
       "rows": [
        [
         "0",
         "num",
         "model_lin",
         "0.27519342779124484",
         "0.4043311363194557",
         "0.8589363917076414",
         "0.37432805688097587",
         "0.02271084904366437"
        ],
        [
         "1",
         "num",
         "model_knn",
         "0.2522173417314647",
         "0.37320340711885214",
         "0.8798201062376282",
         "0.36799448117735906",
         "0.03234516121731362"
        ],
        [
         "2",
         "num",
         "model_rf",
         "0.21843736566403094",
         "0.32547221881241956",
         "0.908595313150856",
         "0.3410661226216054",
         "0.03274116133767666"
        ],
        [
         "3",
         "num",
         "model_xgb",
         "0.22081085709398196",
         "0.3287476457588483",
         "0.9067463329518054",
         "0.36829900634600177",
         "0.04133601298130996"
        ],
        [
         "4",
         "num_cat_origin",
         "model_lin",
         "0.27519342779124484",
         "0.4043311363194557",
         "0.8589363917076414",
         "0.37432805688097587",
         "0.02271084904366437"
        ],
        [
         "5",
         "num_cat_origin",
         "model_knn",
         "0.2522173417314647",
         "0.37320340711885214",
         "0.8798201062376282",
         "0.36799448117735906",
         "0.03234516121731362"
        ],
        [
         "6",
         "num_cat_origin",
         "model_rf",
         "0.21843736566403094",
         "0.32547221881241967",
         "0.9085953131508558",
         "0.3410661226216054",
         "0.03274116133767667"
        ],
        [
         "7",
         "num_cat_origin",
         "model_xgb",
         "0.22081085709398196",
         "0.3287476457588483",
         "0.9067463329518054",
         "0.36829900634600177",
         "0.04133601298130996"
        ],
        [
         "8",
         "num_cat_all",
         "model_lin",
         "0.27519342779124484",
         "0.4043311363194557",
         "0.8589363917076414",
         "0.37432805688097587",
         "0.02271084904366437"
        ],
        [
         "9",
         "num_cat_all",
         "model_knn",
         "0.2522173417314647",
         "0.37320340711885214",
         "0.8798201062376282",
         "0.36799448117735906",
         "0.03234516121731362"
        ],
        [
         "10",
         "num_cat_all",
         "model_rf",
         "0.21843736566403094",
         "0.3254722188124196",
         "0.908595313150856",
         "0.3410661226216054",
         "0.03274116133767668"
        ],
        [
         "11",
         "num_cat_all",
         "model_xgb",
         "0.22081085709398196",
         "0.3287476457588483",
         "0.9067463329518054",
         "0.36829900634600177",
         "0.04133601298130996"
        ],
        [
         "12",
         "num_cat_all_LLM",
         "model_lin",
         "0.27519342779124484",
         "0.4043311363194557",
         "0.8589363917076414",
         "0.37432805688097587",
         "0.02271084904366437"
        ],
        [
         "13",
         "num_cat_all_LLM",
         "model_knn",
         "0.2522173417314647",
         "0.37320340711885214",
         "0.8798201062376282",
         "0.36799448117735906",
         "0.03234516121731362"
        ],
        [
         "14",
         "num_cat_all_LLM",
         "model_rf",
         "0.21843736566403094",
         "0.3254722188124196",
         "0.908595313150856",
         "0.3410661226216054",
         "0.03274116133767667"
        ],
        [
         "15",
         "num_cat_all_LLM",
         "model_xgb",
         "0.22081085709398196",
         "0.3287476457588483",
         "0.9067463329518054",
         "0.36829900634600177",
         "0.04133601298130996"
        ],
        [
         "16",
         "num_cat_origin_features",
         "model_lin",
         "0.27519342779124484",
         "0.4043311363194557",
         "0.8589363917076414",
         "0.37432805688097587",
         "0.02271084904366437"
        ],
        [
         "17",
         "num_cat_origin_features",
         "model_knn",
         "0.2522173417314647",
         "0.37320340711885214",
         "0.8798201062376282",
         "0.36799448117735906",
         "0.03234516121731362"
        ],
        [
         "18",
         "num_cat_origin_features",
         "model_rf",
         "0.21843736566403094",
         "0.32547221881241956",
         "0.908595313150856",
         "0.3410661226216054",
         "0.032741161337676704"
        ],
        [
         "19",
         "num_cat_origin_features",
         "model_xgb",
         "0.22081085709398196",
         "0.3287476457588483",
         "0.9067463329518054",
         "0.36829900634600177",
         "0.04133601298130996"
        ],
        [
         "20",
         "preprocessed",
         "model_lin",
         "0.27519342779124484",
         "0.4043311363194557",
         "0.8589363917076414",
         "0.37432805688097587",
         "0.02271084904366437"
        ],
        [
         "21",
         "preprocessed",
         "model_knn",
         "0.2522173417314647",
         "0.37320340711885214",
         "0.8798201062376282",
         "0.36799448117735906",
         "0.03234516121731362"
        ],
        [
         "22",
         "preprocessed",
         "model_rf",
         "0.21843736566403094",
         "0.3254722188124196",
         "0.908595313150856",
         "0.34106612262160546",
         "0.032741161337676676"
        ],
        [
         "23",
         "preprocessed",
         "model_xgb",
         "0.22081085709398196",
         "0.3287476457588483",
         "0.9067463329518054",
         "0.36829900634600177",
         "0.04133601298130996"
        ],
        [
         "24",
         "clean_final",
         "model_lin",
         "0.27519342779124484",
         "0.4043311363194557",
         "0.8589363917076414",
         "0.37432805688097587",
         "0.02271084904366437"
        ],
        [
         "25",
         "clean_final",
         "model_knn",
         "0.2522173417314647",
         "0.37320340711885214",
         "0.8798201062376282",
         "0.36799448117735906",
         "0.03234516121731362"
        ],
        [
         "26",
         "clean_final",
         "model_rf",
         "0.21843736566403094",
         "0.3254722188124196",
         "0.908595313150856",
         "0.3410661226216054",
         "0.03274116133767666"
        ],
        [
         "27",
         "clean_final",
         "model_xgb",
         "0.22081085709398196",
         "0.3287476457588483",
         "0.9067463329518054",
         "0.36829900634600177",
         "0.04133601298130996"
        ],
        [
         "28",
         "log_only",
         "model_lin",
         "0.27519342779124484",
         "0.4043311363194557",
         "0.8589363917076414",
         "0.37432805688097587",
         "0.02271084904366437"
        ],
        [
         "29",
         "log_only",
         "model_knn",
         "0.2522173417314647",
         "0.37320340711885214",
         "0.8798201062376282",
         "0.36799448117735906",
         "0.03234516121731362"
        ],
        [
         "30",
         "log_only",
         "model_rf",
         "0.21843736566403094",
         "0.32547221881241967",
         "0.9085953131508558",
         "0.3410661226216054",
         "0.03274116133767667"
        ],
        [
         "31",
         "log_only",
         "model_xgb",
         "0.22081085709398196",
         "0.3287476457588483",
         "0.9067463329518054",
         "0.36829900634600177",
         "0.04133601298130996"
        ]
       ],
       "shape": {
        "columns": 7,
        "rows": 32
       }
      },
      "text/html": [
       "<div>\n",
       "<style scoped>\n",
       "    .dataframe tbody tr th:only-of-type {\n",
       "        vertical-align: middle;\n",
       "    }\n",
       "\n",
       "    .dataframe tbody tr th {\n",
       "        vertical-align: top;\n",
       "    }\n",
       "\n",
       "    .dataframe thead th {\n",
       "        text-align: right;\n",
       "    }\n",
       "</style>\n",
       "<table border=\"1\" class=\"dataframe\">\n",
       "  <thead>\n",
       "    <tr style=\"text-align: right;\">\n",
       "      <th></th>\n",
       "      <th>data</th>\n",
       "      <th>model</th>\n",
       "      <th>MAE</th>\n",
       "      <th>RMSE</th>\n",
       "      <th>R2</th>\n",
       "      <th>CV_RMSE_mean</th>\n",
       "      <th>CV_RMSE_std</th>\n",
       "    </tr>\n",
       "  </thead>\n",
       "  <tbody>\n",
       "    <tr>\n",
       "      <th>0</th>\n",
       "      <td>num</td>\n",
       "      <td>model_lin</td>\n",
       "      <td>0.275193</td>\n",
       "      <td>0.404331</td>\n",
       "      <td>0.858936</td>\n",
       "      <td>0.374328</td>\n",
       "      <td>0.022711</td>\n",
       "    </tr>\n",
       "    <tr>\n",
       "      <th>1</th>\n",
       "      <td>num</td>\n",
       "      <td>model_knn</td>\n",
       "      <td>0.252217</td>\n",
       "      <td>0.373203</td>\n",
       "      <td>0.879820</td>\n",
       "      <td>0.367994</td>\n",
       "      <td>0.032345</td>\n",
       "    </tr>\n",
       "    <tr>\n",
       "      <th>2</th>\n",
       "      <td>num</td>\n",
       "      <td>model_rf</td>\n",
       "      <td>0.218437</td>\n",
       "      <td>0.325472</td>\n",
       "      <td>0.908595</td>\n",
       "      <td>0.341066</td>\n",
       "      <td>0.032741</td>\n",
       "    </tr>\n",
       "    <tr>\n",
       "      <th>3</th>\n",
       "      <td>num</td>\n",
       "      <td>model_xgb</td>\n",
       "      <td>0.220811</td>\n",
       "      <td>0.328748</td>\n",
       "      <td>0.906746</td>\n",
       "      <td>0.368299</td>\n",
       "      <td>0.041336</td>\n",
       "    </tr>\n",
       "    <tr>\n",
       "      <th>4</th>\n",
       "      <td>num_cat_origin</td>\n",
       "      <td>model_lin</td>\n",
       "      <td>0.275193</td>\n",
       "      <td>0.404331</td>\n",
       "      <td>0.858936</td>\n",
       "      <td>0.374328</td>\n",
       "      <td>0.022711</td>\n",
       "    </tr>\n",
       "    <tr>\n",
       "      <th>5</th>\n",
       "      <td>num_cat_origin</td>\n",
       "      <td>model_knn</td>\n",
       "      <td>0.252217</td>\n",
       "      <td>0.373203</td>\n",
       "      <td>0.879820</td>\n",
       "      <td>0.367994</td>\n",
       "      <td>0.032345</td>\n",
       "    </tr>\n",
       "    <tr>\n",
       "      <th>6</th>\n",
       "      <td>num_cat_origin</td>\n",
       "      <td>model_rf</td>\n",
       "      <td>0.218437</td>\n",
       "      <td>0.325472</td>\n",
       "      <td>0.908595</td>\n",
       "      <td>0.341066</td>\n",
       "      <td>0.032741</td>\n",
       "    </tr>\n",
       "    <tr>\n",
       "      <th>7</th>\n",
       "      <td>num_cat_origin</td>\n",
       "      <td>model_xgb</td>\n",
       "      <td>0.220811</td>\n",
       "      <td>0.328748</td>\n",
       "      <td>0.906746</td>\n",
       "      <td>0.368299</td>\n",
       "      <td>0.041336</td>\n",
       "    </tr>\n",
       "    <tr>\n",
       "      <th>8</th>\n",
       "      <td>num_cat_all</td>\n",
       "      <td>model_lin</td>\n",
       "      <td>0.275193</td>\n",
       "      <td>0.404331</td>\n",
       "      <td>0.858936</td>\n",
       "      <td>0.374328</td>\n",
       "      <td>0.022711</td>\n",
       "    </tr>\n",
       "    <tr>\n",
       "      <th>9</th>\n",
       "      <td>num_cat_all</td>\n",
       "      <td>model_knn</td>\n",
       "      <td>0.252217</td>\n",
       "      <td>0.373203</td>\n",
       "      <td>0.879820</td>\n",
       "      <td>0.367994</td>\n",
       "      <td>0.032345</td>\n",
       "    </tr>\n",
       "    <tr>\n",
       "      <th>10</th>\n",
       "      <td>num_cat_all</td>\n",
       "      <td>model_rf</td>\n",
       "      <td>0.218437</td>\n",
       "      <td>0.325472</td>\n",
       "      <td>0.908595</td>\n",
       "      <td>0.341066</td>\n",
       "      <td>0.032741</td>\n",
       "    </tr>\n",
       "    <tr>\n",
       "      <th>11</th>\n",
       "      <td>num_cat_all</td>\n",
       "      <td>model_xgb</td>\n",
       "      <td>0.220811</td>\n",
       "      <td>0.328748</td>\n",
       "      <td>0.906746</td>\n",
       "      <td>0.368299</td>\n",
       "      <td>0.041336</td>\n",
       "    </tr>\n",
       "    <tr>\n",
       "      <th>12</th>\n",
       "      <td>num_cat_all_LLM</td>\n",
       "      <td>model_lin</td>\n",
       "      <td>0.275193</td>\n",
       "      <td>0.404331</td>\n",
       "      <td>0.858936</td>\n",
       "      <td>0.374328</td>\n",
       "      <td>0.022711</td>\n",
       "    </tr>\n",
       "    <tr>\n",
       "      <th>13</th>\n",
       "      <td>num_cat_all_LLM</td>\n",
       "      <td>model_knn</td>\n",
       "      <td>0.252217</td>\n",
       "      <td>0.373203</td>\n",
       "      <td>0.879820</td>\n",
       "      <td>0.367994</td>\n",
       "      <td>0.032345</td>\n",
       "    </tr>\n",
       "    <tr>\n",
       "      <th>14</th>\n",
       "      <td>num_cat_all_LLM</td>\n",
       "      <td>model_rf</td>\n",
       "      <td>0.218437</td>\n",
       "      <td>0.325472</td>\n",
       "      <td>0.908595</td>\n",
       "      <td>0.341066</td>\n",
       "      <td>0.032741</td>\n",
       "    </tr>\n",
       "    <tr>\n",
       "      <th>15</th>\n",
       "      <td>num_cat_all_LLM</td>\n",
       "      <td>model_xgb</td>\n",
       "      <td>0.220811</td>\n",
       "      <td>0.328748</td>\n",
       "      <td>0.906746</td>\n",
       "      <td>0.368299</td>\n",
       "      <td>0.041336</td>\n",
       "    </tr>\n",
       "    <tr>\n",
       "      <th>16</th>\n",
       "      <td>num_cat_origin_features</td>\n",
       "      <td>model_lin</td>\n",
       "      <td>0.275193</td>\n",
       "      <td>0.404331</td>\n",
       "      <td>0.858936</td>\n",
       "      <td>0.374328</td>\n",
       "      <td>0.022711</td>\n",
       "    </tr>\n",
       "    <tr>\n",
       "      <th>17</th>\n",
       "      <td>num_cat_origin_features</td>\n",
       "      <td>model_knn</td>\n",
       "      <td>0.252217</td>\n",
       "      <td>0.373203</td>\n",
       "      <td>0.879820</td>\n",
       "      <td>0.367994</td>\n",
       "      <td>0.032345</td>\n",
       "    </tr>\n",
       "    <tr>\n",
       "      <th>18</th>\n",
       "      <td>num_cat_origin_features</td>\n",
       "      <td>model_rf</td>\n",
       "      <td>0.218437</td>\n",
       "      <td>0.325472</td>\n",
       "      <td>0.908595</td>\n",
       "      <td>0.341066</td>\n",
       "      <td>0.032741</td>\n",
       "    </tr>\n",
       "    <tr>\n",
       "      <th>19</th>\n",
       "      <td>num_cat_origin_features</td>\n",
       "      <td>model_xgb</td>\n",
       "      <td>0.220811</td>\n",
       "      <td>0.328748</td>\n",
       "      <td>0.906746</td>\n",
       "      <td>0.368299</td>\n",
       "      <td>0.041336</td>\n",
       "    </tr>\n",
       "    <tr>\n",
       "      <th>20</th>\n",
       "      <td>preprocessed</td>\n",
       "      <td>model_lin</td>\n",
       "      <td>0.275193</td>\n",
       "      <td>0.404331</td>\n",
       "      <td>0.858936</td>\n",
       "      <td>0.374328</td>\n",
       "      <td>0.022711</td>\n",
       "    </tr>\n",
       "    <tr>\n",
       "      <th>21</th>\n",
       "      <td>preprocessed</td>\n",
       "      <td>model_knn</td>\n",
       "      <td>0.252217</td>\n",
       "      <td>0.373203</td>\n",
       "      <td>0.879820</td>\n",
       "      <td>0.367994</td>\n",
       "      <td>0.032345</td>\n",
       "    </tr>\n",
       "    <tr>\n",
       "      <th>22</th>\n",
       "      <td>preprocessed</td>\n",
       "      <td>model_rf</td>\n",
       "      <td>0.218437</td>\n",
       "      <td>0.325472</td>\n",
       "      <td>0.908595</td>\n",
       "      <td>0.341066</td>\n",
       "      <td>0.032741</td>\n",
       "    </tr>\n",
       "    <tr>\n",
       "      <th>23</th>\n",
       "      <td>preprocessed</td>\n",
       "      <td>model_xgb</td>\n",
       "      <td>0.220811</td>\n",
       "      <td>0.328748</td>\n",
       "      <td>0.906746</td>\n",
       "      <td>0.368299</td>\n",
       "      <td>0.041336</td>\n",
       "    </tr>\n",
       "    <tr>\n",
       "      <th>24</th>\n",
       "      <td>clean_final</td>\n",
       "      <td>model_lin</td>\n",
       "      <td>0.275193</td>\n",
       "      <td>0.404331</td>\n",
       "      <td>0.858936</td>\n",
       "      <td>0.374328</td>\n",
       "      <td>0.022711</td>\n",
       "    </tr>\n",
       "    <tr>\n",
       "      <th>25</th>\n",
       "      <td>clean_final</td>\n",
       "      <td>model_knn</td>\n",
       "      <td>0.252217</td>\n",
       "      <td>0.373203</td>\n",
       "      <td>0.879820</td>\n",
       "      <td>0.367994</td>\n",
       "      <td>0.032345</td>\n",
       "    </tr>\n",
       "    <tr>\n",
       "      <th>26</th>\n",
       "      <td>clean_final</td>\n",
       "      <td>model_rf</td>\n",
       "      <td>0.218437</td>\n",
       "      <td>0.325472</td>\n",
       "      <td>0.908595</td>\n",
       "      <td>0.341066</td>\n",
       "      <td>0.032741</td>\n",
       "    </tr>\n",
       "    <tr>\n",
       "      <th>27</th>\n",
       "      <td>clean_final</td>\n",
       "      <td>model_xgb</td>\n",
       "      <td>0.220811</td>\n",
       "      <td>0.328748</td>\n",
       "      <td>0.906746</td>\n",
       "      <td>0.368299</td>\n",
       "      <td>0.041336</td>\n",
       "    </tr>\n",
       "    <tr>\n",
       "      <th>28</th>\n",
       "      <td>log_only</td>\n",
       "      <td>model_lin</td>\n",
       "      <td>0.275193</td>\n",
       "      <td>0.404331</td>\n",
       "      <td>0.858936</td>\n",
       "      <td>0.374328</td>\n",
       "      <td>0.022711</td>\n",
       "    </tr>\n",
       "    <tr>\n",
       "      <th>29</th>\n",
       "      <td>log_only</td>\n",
       "      <td>model_knn</td>\n",
       "      <td>0.252217</td>\n",
       "      <td>0.373203</td>\n",
       "      <td>0.879820</td>\n",
       "      <td>0.367994</td>\n",
       "      <td>0.032345</td>\n",
       "    </tr>\n",
       "    <tr>\n",
       "      <th>30</th>\n",
       "      <td>log_only</td>\n",
       "      <td>model_rf</td>\n",
       "      <td>0.218437</td>\n",
       "      <td>0.325472</td>\n",
       "      <td>0.908595</td>\n",
       "      <td>0.341066</td>\n",
       "      <td>0.032741</td>\n",
       "    </tr>\n",
       "    <tr>\n",
       "      <th>31</th>\n",
       "      <td>log_only</td>\n",
       "      <td>model_xgb</td>\n",
       "      <td>0.220811</td>\n",
       "      <td>0.328748</td>\n",
       "      <td>0.906746</td>\n",
       "      <td>0.368299</td>\n",
       "      <td>0.041336</td>\n",
       "    </tr>\n",
       "  </tbody>\n",
       "</table>\n",
       "</div>"
      ],
      "text/plain": [
       "                       data      model       MAE      RMSE        R2  \\\n",
       "0                       num  model_lin  0.275193  0.404331  0.858936   \n",
       "1                       num  model_knn  0.252217  0.373203  0.879820   \n",
       "2                       num   model_rf  0.218437  0.325472  0.908595   \n",
       "3                       num  model_xgb  0.220811  0.328748  0.906746   \n",
       "4            num_cat_origin  model_lin  0.275193  0.404331  0.858936   \n",
       "5            num_cat_origin  model_knn  0.252217  0.373203  0.879820   \n",
       "6            num_cat_origin   model_rf  0.218437  0.325472  0.908595   \n",
       "7            num_cat_origin  model_xgb  0.220811  0.328748  0.906746   \n",
       "8               num_cat_all  model_lin  0.275193  0.404331  0.858936   \n",
       "9               num_cat_all  model_knn  0.252217  0.373203  0.879820   \n",
       "10              num_cat_all   model_rf  0.218437  0.325472  0.908595   \n",
       "11              num_cat_all  model_xgb  0.220811  0.328748  0.906746   \n",
       "12          num_cat_all_LLM  model_lin  0.275193  0.404331  0.858936   \n",
       "13          num_cat_all_LLM  model_knn  0.252217  0.373203  0.879820   \n",
       "14          num_cat_all_LLM   model_rf  0.218437  0.325472  0.908595   \n",
       "15          num_cat_all_LLM  model_xgb  0.220811  0.328748  0.906746   \n",
       "16  num_cat_origin_features  model_lin  0.275193  0.404331  0.858936   \n",
       "17  num_cat_origin_features  model_knn  0.252217  0.373203  0.879820   \n",
       "18  num_cat_origin_features   model_rf  0.218437  0.325472  0.908595   \n",
       "19  num_cat_origin_features  model_xgb  0.220811  0.328748  0.906746   \n",
       "20             preprocessed  model_lin  0.275193  0.404331  0.858936   \n",
       "21             preprocessed  model_knn  0.252217  0.373203  0.879820   \n",
       "22             preprocessed   model_rf  0.218437  0.325472  0.908595   \n",
       "23             preprocessed  model_xgb  0.220811  0.328748  0.906746   \n",
       "24              clean_final  model_lin  0.275193  0.404331  0.858936   \n",
       "25              clean_final  model_knn  0.252217  0.373203  0.879820   \n",
       "26              clean_final   model_rf  0.218437  0.325472  0.908595   \n",
       "27              clean_final  model_xgb  0.220811  0.328748  0.906746   \n",
       "28                 log_only  model_lin  0.275193  0.404331  0.858936   \n",
       "29                 log_only  model_knn  0.252217  0.373203  0.879820   \n",
       "30                 log_only   model_rf  0.218437  0.325472  0.908595   \n",
       "31                 log_only  model_xgb  0.220811  0.328748  0.906746   \n",
       "\n",
       "    CV_RMSE_mean  CV_RMSE_std  \n",
       "0       0.374328     0.022711  \n",
       "1       0.367994     0.032345  \n",
       "2       0.341066     0.032741  \n",
       "3       0.368299     0.041336  \n",
       "4       0.374328     0.022711  \n",
       "5       0.367994     0.032345  \n",
       "6       0.341066     0.032741  \n",
       "7       0.368299     0.041336  \n",
       "8       0.374328     0.022711  \n",
       "9       0.367994     0.032345  \n",
       "10      0.341066     0.032741  \n",
       "11      0.368299     0.041336  \n",
       "12      0.374328     0.022711  \n",
       "13      0.367994     0.032345  \n",
       "14      0.341066     0.032741  \n",
       "15      0.368299     0.041336  \n",
       "16      0.374328     0.022711  \n",
       "17      0.367994     0.032345  \n",
       "18      0.341066     0.032741  \n",
       "19      0.368299     0.041336  \n",
       "20      0.374328     0.022711  \n",
       "21      0.367994     0.032345  \n",
       "22      0.341066     0.032741  \n",
       "23      0.368299     0.041336  \n",
       "24      0.374328     0.022711  \n",
       "25      0.367994     0.032345  \n",
       "26      0.341066     0.032741  \n",
       "27      0.368299     0.041336  \n",
       "28      0.374328     0.022711  \n",
       "29      0.367994     0.032345  \n",
       "30      0.341066     0.032741  \n",
       "31      0.368299     0.041336  "
      ]
     },
     "execution_count": 71,
     "metadata": {},
     "output_type": "execute_result"
    }
   ],
   "source": [
    "# metryki (MAE, RMSE, R²)\n",
    "# Walidacja krzyżowa\n",
    "\n",
    "metrics = []\n",
    "cv = KFold(n_splits=5, shuffle=True, random_state=0)\n",
    "\n",
    "for data_idx, data in enumerate(data_names):\n",
    "\n",
    "    df = pd.read_csv(data_file_names[data_idx])   \n",
    "    X_train, X_test, y_train, y_test = train_test_split(X, y, test_size=0.2, random_state=0)\n",
    "\n",
    "    for model, model_name in zip(models, models_names):\n",
    "        y_pred_test = model.predict(X_test)\n",
    "        # neg_root_mean_squared_error => po odwróceniu będzie RMSE\n",
    "        scores = cross_val_score(model, X, y, cv=cv,\n",
    "                                 scoring=\"neg_root_mean_squared_error\",\n",
    "                                 n_jobs=-1)\n",
    "        metrics.append({\n",
    "            \"data\":  data,\n",
    "            \"model\": model_name,\n",
    "            \"MAE\":   mean_absolute_error(y_test, y_pred_test),\n",
    "            \"RMSE\":  np.sqrt(mean_squared_error(y_test, y_pred_test)),\n",
    "            \"R2\":    r2_score(y_test, y_pred_test),\n",
    "            \"CV_RMSE_mean\": -scores.mean(),\n",
    "            \"CV_RMSE_std\":  scores.std()\n",
    "        })\n",
    "\n",
    "metrics_df = pd.DataFrame(metrics)\n",
    "metrics_df"
   ]
  }
 ],
 "metadata": {
  "kernelspec": {
   "display_name": "Python 3",
   "language": "python",
   "name": "python3"
  },
  "language_info": {
   "codemirror_mode": {
    "name": "ipython",
    "version": 3
   },
   "file_extension": ".py",
   "mimetype": "text/x-python",
   "name": "python",
   "nbconvert_exporter": "python",
   "pygments_lexer": "ipython3",
   "version": "3.13.5"
  }
 },
 "nbformat": 4,
 "nbformat_minor": 5
}
