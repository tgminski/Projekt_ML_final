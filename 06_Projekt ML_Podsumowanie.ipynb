{
 "cells": [
  {
   "cell_type": "markdown",
   "id": "9d89c654",
   "metadata": {},
   "source": [
    "## Podsumowanie"
   ]
  },
  {
   "cell_type": "markdown",
   "id": "90b8cda2",
   "metadata": {},
   "source": [
    "W opracowaniu przedstawiono użycie metody uczenia maszynowego z wykorzystaniem regresji liniowej.\n",
    "\n",
    "W uproszczeniu na jakość uczenia maszynowego składają się:\n",
    "\n",
    "* opracowanie danych\n",
    "\n",
    "* metoda uczenia\n",
    "\n",
    "* parametry metody uczenia (hiperparametry)\n",
    "\n",
    "\n",
    "W naszym przypadku wykorzystujemy metodę LinearRegression. Metoda ta nie ma oczywistych hiperparametrów do strojenia. Zmiana normy uczącej w tej metodzie i jej wpływ na efekty uczenia ze względu na stopień trudności nie jest rozważana w tym opracowaniu.\n",
    "\n",
    "Pozostaje nam dobre opracoweanie danych. W tym przypadku skupialiśmy się na uzyskaniu dobrych efektów uczenia maszynowego poprzez dobre opracowanie danych."
   ]
  },
  {
   "cell_type": "markdown",
   "id": "4a040dc6",
   "metadata": {},
   "source": [
    "Metoda LinearRegression z domyślną normą dobrze pracuje ze zbioramu danych, dla których rozkład jest normalny.\n",
    "\n",
    "Do opracowania danych użyto:\n",
    "\n",
    "* przybliżanie rozkładu danych do rozkładu normalnego:\n",
    "\n",
    "    * usunięcie danych spoza zdefiniowanego w opisie danych\n",
    "\n",
    "    * transformacje danych, użyliśmy logarytmowania\n",
    "\n",
    "    * usunięcie danych odstających (outliers) , użyliśmy metody Q1, Q3, 1.5*IQR\n",
    "\n",
    "* użycie dodatkowych cech (features)\n",
    "\n",
    "* użycie prostej wersji słownika dla danych tekstowych\n",
    "\n",
    "* normalizacji danych - polepszenie uwarunkowań obliczeń numerycznych"
   ]
  },
  {
   "cell_type": "markdown",
   "id": "8f1c7a22",
   "metadata": {},
   "source": [
    "W naszym przypadku:\n",
    "* im lepiej przygotowywaliśmy dane do uczenia, tym lepsze osiągaliśmy efekty uczenia\n",
    "* połączenie metod opracowania danych pozwoliło na osiągnięcie jakości uczenia na poziomie zaawansowanych metod uczenia maszynowego"
   ]
  },
  {
   "cell_type": "markdown",
   "id": "56822438",
   "metadata": {},
   "source": [
    "# Wnioski na przyszłość:\n",
    "\n",
    "* ze zwględu na ograniczenia czasowe i prywatne organizacyjne:\n",
    "\n",
    "    * nie wyczerpaliśmy dostępnych metod opracowania danych\n",
    "\n",
    "    * można szukać dodatkowych cech danych (features), można zdefiniować i przetestować dużą ilość zależności pomiędzy danymi. W naszym przypadku użyliśmy relacji dzielenia, można użyć: mnożenia, dodawania, odejmowania, i innych. Dla metody LinearRegression w łatwy sposób można zweryfikować przydatność następnej cechy. Oczywiście nowe cechy mogą być poddane transformacją np. logarytmicznym, mogą także służyć do wykrywania wartości odstających. Python dobrze wspiera robotyzację dużej ilości tego typu poszukiwań.\n",
    "\n",
    "    * w opracowaniu nie przeprowadzaliśmy analizy przydatności konkretnej cechy do uczenia maszynowego. W wielu przypadkach poprzez zmniejszenie ilości cech trochę traci się na dokładności, ale można osiągnąć wyraźnie lepszą jakość wiedzy wyekstrachowanej z danych.\n",
    "\n",
    "    * w opracowaniu nie przeprowadzono analizy wpływu szumu w danych na jakość uczenia. Często zmniejszenie ilości mało ważnych cech daje większą odporność na szum w danych.\n",
    "\n",
    "    * w opracowaniuu nie analizowano zagadnień odporności regresora na zmiany jakości danych\n",
    "\n",
    "    * Metodę LinearRegression można użyć do wyodrębniania zbiorów w danych. W uproszczeniu iteracyjnie uczymy na zbiorze i usówamy najgorzej dopasowane elementy do czasu, aż osiągniemy rozkłady cech dobrze zbliżone do rozkładów nornalnych. powtarzamy procedurę dla odrzuconych elementów. Jest to rodzaj uczenia nienadzorowanego. Oczywiście powstało by wiele modeli liniowych opisujących wyodrębnione podzbiory, chcąc obliczyć wynik dla nowych elementów najpierw należało by określić przynależność do podzbioru i dopiero korzystać z modelu dla tego podzbioruzbioru. Tego typu funkcjonalność można wykorzystać do monitorowania jakości danych, dużą wartością może być łatwość i intuicyjność interpretowania efektów uczenia regresji liniowej. Przykładowo jeśli w nowych danych wejściowych zmienią się rozkłady, to można to wykryć."
   ]
  },
  {
   "cell_type": "markdown",
   "id": "790a78e1",
   "metadata": {},
   "source": [
    "Wydawało by się, że metoda regresji liniowej jest taka prosta i za dużo nie da się z niej 'wycisnąć'. Czasem przy świadomym użyciu można osiągnąć bardzo dobre efekty, porównywalne z bardziej zaawansowanymi metodami uczenia maszynowego. Do zalet tej metody należą słaba podatność na przeuczenie, łatwość i intuicyjność ekstrakcji wiedzy i możliwość uodporniania na szum w danych."
   ]
  },
  {
   "cell_type": "markdown",
   "id": "7bbe4eeb",
   "metadata": {},
   "source": [
    "Ilość zagadnień, które można rozważać w tego typu opracowaniu może być przytłączająca. Zawsze warto zauważyć, że zagadnienia rozwiązują jakiś problem, czyli można mieć wiele możliwości znajdowania rozwiązań."
   ]
  }
 ],
 "metadata": {
  "language_info": {
   "name": "python"
  }
 },
 "nbformat": 4,
 "nbformat_minor": 5
}
