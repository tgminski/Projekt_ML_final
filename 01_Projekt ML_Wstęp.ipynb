{
 "cells": [
  {
   "cell_type": "markdown",
   "id": "3ae18768",
   "metadata": {},
   "source": [
    "## Projekt na zajęcia \"Podstawy uczenia maszynowego\"\n",
    "\n",
    "Wykonali:\n",
    "\n",
    "* Karolina Kornacka\n",
    "\n",
    "* Łukasz Kortals\n",
    "\n",
    "* Paweł Józefczyk\n",
    "\n",
    "* Tomasz Gmiński\n",
    "\n",
    "\n"
   ]
  },
  {
   "cell_type": "markdown",
   "id": "214f6f96",
   "metadata": {},
   "source": [
    "W opracowaniu zajmujemy się zbiorem 'cars.csv'.\n",
    "\n",
    "Celem opracowania jest sprawdzenie możliwości określania średniego spalania ('mpg') na podstawoe danych w zbiorze.\n",
    "\n",
    "Jako metodę uczącą wykorzystano Linear Regressor."
   ]
  },
  {
   "cell_type": "markdown",
   "id": "c47151f6",
   "metadata": {},
   "source": [
    "Ze względu na czytelność opracowanie podzielono na 6 plików notebook:\n",
    "\n",
    "* 01_Projekt ML_Wstęp\n",
    "\n",
    "* 02_Projekt_ML_Data_preprocessing_part_1\n",
    "\n",
    "* 03_Projekt_ML_Data_preprocessing_part_2\n",
    "\n",
    "* 04_Projekt ML_Features\n",
    "\n",
    "* 05_Projekt ML_Machine_Learning\n",
    "\n",
    "* 06_Projekt ML_Podsumowanie"
   ]
  },
  {
   "cell_type": "markdown",
   "id": "3304d046",
   "metadata": {},
   "source": [
    "Do opracowania dołączono używane pliki danych, przyjęto standard 'csv'.\n",
    "\n",
    "Plikiem danych surowych jest 'cars.csv' . Pozostałe pliki są wynikiem opracowania danych na potrzeby obliczeń regresorów."
   ]
  },
  {
   "cell_type": "markdown",
   "id": "5a60d33a",
   "metadata": {},
   "source": [
    "Ze względu na użytą metodę uczenia maszynowego jakość uczenia zwiększamy poprzez lepsze opracownaie danych."
   ]
  }
 ],
 "metadata": {
  "language_info": {
   "name": "python"
  }
 },
 "nbformat": 4,
 "nbformat_minor": 5
}
