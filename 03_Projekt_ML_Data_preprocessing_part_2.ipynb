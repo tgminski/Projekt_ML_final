{
 "cells": [
  {
   "cell_type": "markdown",
   "id": "804684c3",
   "metadata": {},
   "source": [
    "# Projekt ML, przygotowanie danych, część 2.\n",
    "\n",
    "Poniższy rozdział skupia się na przygotowaniu danych w sensie analizy cech zawartych w danych.\n",
    "\n",
    "Uczenie maszynowe zrealizowano w pliku \"Projekt ML Machine Learning\"\n",
    "\n",
    "Do analizy przyjęto dane ze zbiotu 'cars.csv'\n",
    "\n",
    "Zbiór danych z 392 obserwacjami i 9 zmiennymi:\n",
    "\n",
    "• mpg - miles per gallon - zużycie paliwa (w milach na galon paliwa)\n",
    "\n",
    "• cylinders - liczba cylindrów (od 4 do 8)\n",
    "\n",
    "• displacement - objętość skokowa (cale sześcienne)\n",
    "\n",
    "• horsepower - moc (konie mechaniczne)\n",
    "\n",
    "• weight - waga (w funtach)\n",
    "\n",
    "• acceleration - przyspieszenie w sekundach do 60 mil na godzinę\n",
    "\n",
    "• year - rok produkcji (z ostatnie cyfry roku, XX wiek)\n",
    "\n",
    "• origin - kraj produkcji (1. American, 2. European, 3. Japanese)\n",
    "\n",
    "• name - nazwa samochodu\n",
    "\n",
    "## Cel analizy: Od czego zależy bardziej ekonomiczne zużycie paliwa? Czy da się przewidzieć zużycie paliwa na podstawie danych ze zbioru?"
   ]
  },
  {
   "cell_type": "markdown",
   "id": "a72707d0",
   "metadata": {},
   "source": [
    "# 1. Wstępne przetwarzanie danych\n",
    "\n",
    "- wczytanie\n",
    "- sprawdzenie typów danych\n",
    "- sprawdzenie co jest w danych\n",
    "- sprawdzenie błędów w danych"
   ]
  },
  {
   "cell_type": "code",
   "execution_count": 24,
   "id": "7f4dcf7e",
   "metadata": {},
   "outputs": [],
   "source": [
    "# import potrzebnych bibliotek\n",
    "import numpy as np\n",
    "import pandas as pd\n",
    "import seaborn as sns"
   ]
  },
  {
   "cell_type": "code",
   "execution_count": 25,
   "id": "a4508ff3",
   "metadata": {},
   "outputs": [
    {
     "name": "stdout",
     "output_type": "stream",
     "text": [
      "<class 'pandas.core.frame.DataFrame'>\n",
      "RangeIndex: 392 entries, 0 to 391\n",
      "Data columns (total 9 columns):\n",
      " #   Column        Non-Null Count  Dtype  \n",
      "---  ------        --------------  -----  \n",
      " 0   mpg           392 non-null    float64\n",
      " 1   cylinders     392 non-null    int64  \n",
      " 2   displacement  392 non-null    float64\n",
      " 3   horsepower    392 non-null    int64  \n",
      " 4   weight        392 non-null    int64  \n",
      " 5   acceleration  392 non-null    float64\n",
      " 6   year          392 non-null    int64  \n",
      " 7   origin        392 non-null    int64  \n",
      " 8   name          392 non-null    object \n",
      "dtypes: float64(3), int64(5), object(1)\n",
      "memory usage: 27.7+ KB\n"
     ]
    },
    {
     "data": {
      "application/vnd.microsoft.datawrangler.viewer.v0+json": {
       "columns": [
        {
         "name": "index",
         "rawType": "object",
         "type": "string"
        },
        {
         "name": "mpg",
         "rawType": "float64",
         "type": "float"
        },
        {
         "name": "cylinders",
         "rawType": "float64",
         "type": "float"
        },
        {
         "name": "displacement",
         "rawType": "float64",
         "type": "float"
        },
        {
         "name": "horsepower",
         "rawType": "float64",
         "type": "float"
        },
        {
         "name": "weight",
         "rawType": "float64",
         "type": "float"
        },
        {
         "name": "acceleration",
         "rawType": "float64",
         "type": "float"
        },
        {
         "name": "year",
         "rawType": "float64",
         "type": "float"
        },
        {
         "name": "origin",
         "rawType": "float64",
         "type": "float"
        }
       ],
       "ref": "b196d01a-27a4-409f-a6a0-d1a954147d59",
       "rows": [
        [
         "count",
         "392.0",
         "392.0",
         "392.0",
         "392.0",
         "392.0",
         "392.0",
         "392.0",
         "392.0"
        ],
        [
         "mean",
         "23.445918367346938",
         "5.471938775510204",
         "194.41198979591837",
         "104.46938775510205",
         "2977.5841836734694",
         "15.541326530612244",
         "75.9795918367347",
         "1.5765306122448979"
        ],
        [
         "std",
         "7.8050074865717995",
         "1.7057832474527845",
         "104.64400390890466",
         "38.49115993282849",
         "849.4025600429492",
         "2.758864119188082",
         "3.6837365435778295",
         "0.8055181834183056"
        ],
        [
         "min",
         "9.0",
         "3.0",
         "68.0",
         "46.0",
         "1613.0",
         "8.0",
         "70.0",
         "1.0"
        ],
        [
         "25%",
         "17.0",
         "4.0",
         "105.0",
         "75.0",
         "2225.25",
         "13.775",
         "73.0",
         "1.0"
        ],
        [
         "50%",
         "22.75",
         "4.0",
         "151.0",
         "93.5",
         "2803.5",
         "15.5",
         "76.0",
         "1.0"
        ],
        [
         "75%",
         "29.0",
         "8.0",
         "275.75",
         "126.0",
         "3614.75",
         "17.025",
         "79.0",
         "2.0"
        ],
        [
         "max",
         "46.6",
         "8.0",
         "455.0",
         "230.0",
         "5140.0",
         "24.8",
         "82.0",
         "3.0"
        ]
       ],
       "shape": {
        "columns": 8,
        "rows": 8
       }
      },
      "text/html": [
       "<div>\n",
       "<style scoped>\n",
       "    .dataframe tbody tr th:only-of-type {\n",
       "        vertical-align: middle;\n",
       "    }\n",
       "\n",
       "    .dataframe tbody tr th {\n",
       "        vertical-align: top;\n",
       "    }\n",
       "\n",
       "    .dataframe thead th {\n",
       "        text-align: right;\n",
       "    }\n",
       "</style>\n",
       "<table border=\"1\" class=\"dataframe\">\n",
       "  <thead>\n",
       "    <tr style=\"text-align: right;\">\n",
       "      <th></th>\n",
       "      <th>mpg</th>\n",
       "      <th>cylinders</th>\n",
       "      <th>displacement</th>\n",
       "      <th>horsepower</th>\n",
       "      <th>weight</th>\n",
       "      <th>acceleration</th>\n",
       "      <th>year</th>\n",
       "      <th>origin</th>\n",
       "    </tr>\n",
       "  </thead>\n",
       "  <tbody>\n",
       "    <tr>\n",
       "      <th>count</th>\n",
       "      <td>392.000000</td>\n",
       "      <td>392.000000</td>\n",
       "      <td>392.000000</td>\n",
       "      <td>392.000000</td>\n",
       "      <td>392.000000</td>\n",
       "      <td>392.000000</td>\n",
       "      <td>392.000000</td>\n",
       "      <td>392.000000</td>\n",
       "    </tr>\n",
       "    <tr>\n",
       "      <th>mean</th>\n",
       "      <td>23.445918</td>\n",
       "      <td>5.471939</td>\n",
       "      <td>194.411990</td>\n",
       "      <td>104.469388</td>\n",
       "      <td>2977.584184</td>\n",
       "      <td>15.541327</td>\n",
       "      <td>75.979592</td>\n",
       "      <td>1.576531</td>\n",
       "    </tr>\n",
       "    <tr>\n",
       "      <th>std</th>\n",
       "      <td>7.805007</td>\n",
       "      <td>1.705783</td>\n",
       "      <td>104.644004</td>\n",
       "      <td>38.491160</td>\n",
       "      <td>849.402560</td>\n",
       "      <td>2.758864</td>\n",
       "      <td>3.683737</td>\n",
       "      <td>0.805518</td>\n",
       "    </tr>\n",
       "    <tr>\n",
       "      <th>min</th>\n",
       "      <td>9.000000</td>\n",
       "      <td>3.000000</td>\n",
       "      <td>68.000000</td>\n",
       "      <td>46.000000</td>\n",
       "      <td>1613.000000</td>\n",
       "      <td>8.000000</td>\n",
       "      <td>70.000000</td>\n",
       "      <td>1.000000</td>\n",
       "    </tr>\n",
       "    <tr>\n",
       "      <th>25%</th>\n",
       "      <td>17.000000</td>\n",
       "      <td>4.000000</td>\n",
       "      <td>105.000000</td>\n",
       "      <td>75.000000</td>\n",
       "      <td>2225.250000</td>\n",
       "      <td>13.775000</td>\n",
       "      <td>73.000000</td>\n",
       "      <td>1.000000</td>\n",
       "    </tr>\n",
       "    <tr>\n",
       "      <th>50%</th>\n",
       "      <td>22.750000</td>\n",
       "      <td>4.000000</td>\n",
       "      <td>151.000000</td>\n",
       "      <td>93.500000</td>\n",
       "      <td>2803.500000</td>\n",
       "      <td>15.500000</td>\n",
       "      <td>76.000000</td>\n",
       "      <td>1.000000</td>\n",
       "    </tr>\n",
       "    <tr>\n",
       "      <th>75%</th>\n",
       "      <td>29.000000</td>\n",
       "      <td>8.000000</td>\n",
       "      <td>275.750000</td>\n",
       "      <td>126.000000</td>\n",
       "      <td>3614.750000</td>\n",
       "      <td>17.025000</td>\n",
       "      <td>79.000000</td>\n",
       "      <td>2.000000</td>\n",
       "    </tr>\n",
       "    <tr>\n",
       "      <th>max</th>\n",
       "      <td>46.600000</td>\n",
       "      <td>8.000000</td>\n",
       "      <td>455.000000</td>\n",
       "      <td>230.000000</td>\n",
       "      <td>5140.000000</td>\n",
       "      <td>24.800000</td>\n",
       "      <td>82.000000</td>\n",
       "      <td>3.000000</td>\n",
       "    </tr>\n",
       "  </tbody>\n",
       "</table>\n",
       "</div>"
      ],
      "text/plain": [
       "              mpg   cylinders  displacement  horsepower       weight  \\\n",
       "count  392.000000  392.000000    392.000000  392.000000   392.000000   \n",
       "mean    23.445918    5.471939    194.411990  104.469388  2977.584184   \n",
       "std      7.805007    1.705783    104.644004   38.491160   849.402560   \n",
       "min      9.000000    3.000000     68.000000   46.000000  1613.000000   \n",
       "25%     17.000000    4.000000    105.000000   75.000000  2225.250000   \n",
       "50%     22.750000    4.000000    151.000000   93.500000  2803.500000   \n",
       "75%     29.000000    8.000000    275.750000  126.000000  3614.750000   \n",
       "max     46.600000    8.000000    455.000000  230.000000  5140.000000   \n",
       "\n",
       "       acceleration        year      origin  \n",
       "count    392.000000  392.000000  392.000000  \n",
       "mean      15.541327   75.979592    1.576531  \n",
       "std        2.758864    3.683737    0.805518  \n",
       "min        8.000000   70.000000    1.000000  \n",
       "25%       13.775000   73.000000    1.000000  \n",
       "50%       15.500000   76.000000    1.000000  \n",
       "75%       17.025000   79.000000    2.000000  \n",
       "max       24.800000   82.000000    3.000000  "
      ]
     },
     "execution_count": 25,
     "metadata": {},
     "output_type": "execute_result"
    }
   ],
   "source": [
    "# wczytanie danych z pliku\n",
    "df_raw = pd.read_csv('cars.csv')\n",
    "# podstawowe informacje o danych\n",
    "df_raw.info()\n",
    "df_raw.head()\n",
    "df_raw.describe()"
   ]
  },
  {
   "cell_type": "code",
   "execution_count": 26,
   "id": "fc15454d",
   "metadata": {},
   "outputs": [
    {
     "data": {
      "application/vnd.microsoft.datawrangler.viewer.v0+json": {
       "columns": [
        {
         "name": "index",
         "rawType": "object",
         "type": "string"
        },
        {
         "name": "0",
         "rawType": "int64",
         "type": "integer"
        }
       ],
       "ref": "0adc46b5-5f1b-4ce4-8681-41603016ab92",
       "rows": [
        [
         "mpg",
         "0"
        ],
        [
         "cylinders",
         "0"
        ],
        [
         "displacement",
         "0"
        ],
        [
         "horsepower",
         "0"
        ],
        [
         "weight",
         "0"
        ],
        [
         "acceleration",
         "0"
        ],
        [
         "year",
         "0"
        ],
        [
         "origin",
         "0"
        ],
        [
         "name",
         "0"
        ]
       ],
       "shape": {
        "columns": 1,
        "rows": 9
       }
      },
      "text/plain": [
       "mpg             0\n",
       "cylinders       0\n",
       "displacement    0\n",
       "horsepower      0\n",
       "weight          0\n",
       "acceleration    0\n",
       "year            0\n",
       "origin          0\n",
       "name            0\n",
       "dtype: int64"
      ]
     },
     "execution_count": 26,
     "metadata": {},
     "output_type": "execute_result"
    }
   ],
   "source": [
    "# sprawdzenie, czy są jakieś braki w danych\n",
    "df_raw.isna().sum()"
   ]
  },
  {
   "cell_type": "markdown",
   "id": "83b67361",
   "metadata": {},
   "source": [
    "W zbiorze nie ma braków danych. Na podstawie opisu danych sprawdzam wyniki polecenia .describe() . Na tej podstawie stwierdzam, że należy sprawdzić dane dla cylinders == 3. Inne dane wstępnie wyglądają na poprawne: są większe od zera, ich zakresy wyglądają na poprawne."
   ]
  },
  {
   "cell_type": "code",
   "execution_count": 27,
   "id": "8b13b08c",
   "metadata": {},
   "outputs": [
    {
     "data": {
      "application/vnd.microsoft.datawrangler.viewer.v0+json": {
       "columns": [
        {
         "name": "index",
         "rawType": "int64",
         "type": "integer"
        },
        {
         "name": "mpg",
         "rawType": "float64",
         "type": "float"
        },
        {
         "name": "cylinders",
         "rawType": "int64",
         "type": "integer"
        },
        {
         "name": "displacement",
         "rawType": "float64",
         "type": "float"
        },
        {
         "name": "horsepower",
         "rawType": "int64",
         "type": "integer"
        },
        {
         "name": "weight",
         "rawType": "int64",
         "type": "integer"
        },
        {
         "name": "acceleration",
         "rawType": "float64",
         "type": "float"
        },
        {
         "name": "year",
         "rawType": "int64",
         "type": "integer"
        },
        {
         "name": "origin",
         "rawType": "int64",
         "type": "integer"
        },
        {
         "name": "name",
         "rawType": "object",
         "type": "string"
        }
       ],
       "ref": "70b90ba4-29de-4836-9360-f00eb9dfc8f3",
       "rows": [
        [
         "70",
         "19.0",
         "3",
         "70.0",
         "97",
         "2330",
         "13.5",
         "72",
         "3",
         "mazda rx2 coupe"
        ],
        [
         "110",
         "18.0",
         "3",
         "70.0",
         "90",
         "2124",
         "13.5",
         "73",
         "3",
         "maxda rx3"
        ],
        [
         "241",
         "21.5",
         "3",
         "80.0",
         "110",
         "2720",
         "13.5",
         "77",
         "3",
         "mazda rx-4"
        ],
        [
         "331",
         "23.7",
         "3",
         "70.0",
         "100",
         "2420",
         "12.5",
         "80",
         "3",
         "mazda rx-7 gs"
        ]
       ],
       "shape": {
        "columns": 9,
        "rows": 4
       }
      },
      "text/html": [
       "<div>\n",
       "<style scoped>\n",
       "    .dataframe tbody tr th:only-of-type {\n",
       "        vertical-align: middle;\n",
       "    }\n",
       "\n",
       "    .dataframe tbody tr th {\n",
       "        vertical-align: top;\n",
       "    }\n",
       "\n",
       "    .dataframe thead th {\n",
       "        text-align: right;\n",
       "    }\n",
       "</style>\n",
       "<table border=\"1\" class=\"dataframe\">\n",
       "  <thead>\n",
       "    <tr style=\"text-align: right;\">\n",
       "      <th></th>\n",
       "      <th>mpg</th>\n",
       "      <th>cylinders</th>\n",
       "      <th>displacement</th>\n",
       "      <th>horsepower</th>\n",
       "      <th>weight</th>\n",
       "      <th>acceleration</th>\n",
       "      <th>year</th>\n",
       "      <th>origin</th>\n",
       "      <th>name</th>\n",
       "    </tr>\n",
       "  </thead>\n",
       "  <tbody>\n",
       "    <tr>\n",
       "      <th>70</th>\n",
       "      <td>19.0</td>\n",
       "      <td>3</td>\n",
       "      <td>70.0</td>\n",
       "      <td>97</td>\n",
       "      <td>2330</td>\n",
       "      <td>13.5</td>\n",
       "      <td>72</td>\n",
       "      <td>3</td>\n",
       "      <td>mazda rx2 coupe</td>\n",
       "    </tr>\n",
       "    <tr>\n",
       "      <th>110</th>\n",
       "      <td>18.0</td>\n",
       "      <td>3</td>\n",
       "      <td>70.0</td>\n",
       "      <td>90</td>\n",
       "      <td>2124</td>\n",
       "      <td>13.5</td>\n",
       "      <td>73</td>\n",
       "      <td>3</td>\n",
       "      <td>maxda rx3</td>\n",
       "    </tr>\n",
       "    <tr>\n",
       "      <th>241</th>\n",
       "      <td>21.5</td>\n",
       "      <td>3</td>\n",
       "      <td>80.0</td>\n",
       "      <td>110</td>\n",
       "      <td>2720</td>\n",
       "      <td>13.5</td>\n",
       "      <td>77</td>\n",
       "      <td>3</td>\n",
       "      <td>mazda rx-4</td>\n",
       "    </tr>\n",
       "    <tr>\n",
       "      <th>331</th>\n",
       "      <td>23.7</td>\n",
       "      <td>3</td>\n",
       "      <td>70.0</td>\n",
       "      <td>100</td>\n",
       "      <td>2420</td>\n",
       "      <td>12.5</td>\n",
       "      <td>80</td>\n",
       "      <td>3</td>\n",
       "      <td>mazda rx-7 gs</td>\n",
       "    </tr>\n",
       "  </tbody>\n",
       "</table>\n",
       "</div>"
      ],
      "text/plain": [
       "      mpg  cylinders  displacement  horsepower  weight  acceleration  year  \\\n",
       "70   19.0          3          70.0          97    2330          13.5    72   \n",
       "110  18.0          3          70.0          90    2124          13.5    73   \n",
       "241  21.5          3          80.0         110    2720          13.5    77   \n",
       "331  23.7          3          70.0         100    2420          12.5    80   \n",
       "\n",
       "     origin             name  \n",
       "70        3  mazda rx2 coupe  \n",
       "110       3        maxda rx3  \n",
       "241       3       mazda rx-4  \n",
       "331       3    mazda rx-7 gs  "
      ]
     },
     "execution_count": 27,
     "metadata": {},
     "output_type": "execute_result"
    }
   ],
   "source": [
    "# sprawdzenie ilości rekordów dla cylinders==4\n",
    "df_raw[df_raw['cylinders'] == 3].shape[0]\n",
    "df_raw[df_raw['cylinders'] == 3].head()"
   ]
  },
  {
   "cell_type": "markdown",
   "id": "ee90c0c7",
   "metadata": {},
   "source": [
    "Ze względu na niewielką ilość niepoprawnych danych w dalszej analizie pomijam wartości dla cylinders==3"
   ]
  },
  {
   "cell_type": "code",
   "execution_count": 28,
   "id": "6297a275",
   "metadata": {},
   "outputs": [
    {
     "data": {
      "application/vnd.microsoft.datawrangler.viewer.v0+json": {
       "columns": [
        {
         "name": "index",
         "rawType": "object",
         "type": "string"
        },
        {
         "name": "mpg",
         "rawType": "float64",
         "type": "float"
        },
        {
         "name": "cylinders",
         "rawType": "float64",
         "type": "float"
        },
        {
         "name": "displacement",
         "rawType": "float64",
         "type": "float"
        },
        {
         "name": "horsepower",
         "rawType": "float64",
         "type": "float"
        },
        {
         "name": "weight",
         "rawType": "float64",
         "type": "float"
        },
        {
         "name": "acceleration",
         "rawType": "float64",
         "type": "float"
        },
        {
         "name": "year",
         "rawType": "float64",
         "type": "float"
        },
        {
         "name": "origin",
         "rawType": "float64",
         "type": "float"
        }
       ],
       "ref": "038e4d12-076c-488b-9abb-051acaeb9b2c",
       "rows": [
        [
         "count",
         "388.0",
         "388.0",
         "388.0",
         "388.0",
         "388.0",
         "388.0",
         "388.0",
         "388.0"
        ],
        [
         "mean",
         "23.47577319587629",
         "5.497422680412371",
         "195.66881443298968",
         "104.52319587628865",
         "2983.5541237113403",
         "15.564948453608247",
         "75.98453608247422",
         "1.5618556701030928"
        ],
        [
         "std",
         "7.83640419240695",
         "1.6958662484133369",
         "104.44210953722465",
         "38.67898731926962",
         "851.4487909291329",
         "2.762831608807908",
         "3.6880655407412726",
         "0.7964966311967795"
        ],
        [
         "min",
         "9.0",
         "4.0",
         "68.0",
         "46.0",
         "1613.0",
         "8.0",
         "70.0",
         "1.0"
        ],
        [
         "25%",
         "17.0",
         "4.0",
         "105.0",
         "75.0",
         "2225.25",
         "13.9",
         "73.0",
         "1.0"
        ],
        [
         "50%",
         "23.0",
         "4.0",
         "151.0",
         "92.5",
         "2822.5",
         "15.5",
         "76.0",
         "1.0"
        ],
        [
         "75%",
         "29.0",
         "8.0",
         "302.0",
         "129.0",
         "3622.5",
         "17.125",
         "79.0",
         "2.0"
        ],
        [
         "max",
         "46.6",
         "8.0",
         "455.0",
         "230.0",
         "5140.0",
         "24.8",
         "82.0",
         "3.0"
        ]
       ],
       "shape": {
        "columns": 8,
        "rows": 8
       }
      },
      "text/html": [
       "<div>\n",
       "<style scoped>\n",
       "    .dataframe tbody tr th:only-of-type {\n",
       "        vertical-align: middle;\n",
       "    }\n",
       "\n",
       "    .dataframe tbody tr th {\n",
       "        vertical-align: top;\n",
       "    }\n",
       "\n",
       "    .dataframe thead th {\n",
       "        text-align: right;\n",
       "    }\n",
       "</style>\n",
       "<table border=\"1\" class=\"dataframe\">\n",
       "  <thead>\n",
       "    <tr style=\"text-align: right;\">\n",
       "      <th></th>\n",
       "      <th>mpg</th>\n",
       "      <th>cylinders</th>\n",
       "      <th>displacement</th>\n",
       "      <th>horsepower</th>\n",
       "      <th>weight</th>\n",
       "      <th>acceleration</th>\n",
       "      <th>year</th>\n",
       "      <th>origin</th>\n",
       "    </tr>\n",
       "  </thead>\n",
       "  <tbody>\n",
       "    <tr>\n",
       "      <th>count</th>\n",
       "      <td>388.000000</td>\n",
       "      <td>388.000000</td>\n",
       "      <td>388.000000</td>\n",
       "      <td>388.000000</td>\n",
       "      <td>388.000000</td>\n",
       "      <td>388.000000</td>\n",
       "      <td>388.000000</td>\n",
       "      <td>388.000000</td>\n",
       "    </tr>\n",
       "    <tr>\n",
       "      <th>mean</th>\n",
       "      <td>23.475773</td>\n",
       "      <td>5.497423</td>\n",
       "      <td>195.668814</td>\n",
       "      <td>104.523196</td>\n",
       "      <td>2983.554124</td>\n",
       "      <td>15.564948</td>\n",
       "      <td>75.984536</td>\n",
       "      <td>1.561856</td>\n",
       "    </tr>\n",
       "    <tr>\n",
       "      <th>std</th>\n",
       "      <td>7.836404</td>\n",
       "      <td>1.695866</td>\n",
       "      <td>104.442110</td>\n",
       "      <td>38.678987</td>\n",
       "      <td>851.448791</td>\n",
       "      <td>2.762832</td>\n",
       "      <td>3.688066</td>\n",
       "      <td>0.796497</td>\n",
       "    </tr>\n",
       "    <tr>\n",
       "      <th>min</th>\n",
       "      <td>9.000000</td>\n",
       "      <td>4.000000</td>\n",
       "      <td>68.000000</td>\n",
       "      <td>46.000000</td>\n",
       "      <td>1613.000000</td>\n",
       "      <td>8.000000</td>\n",
       "      <td>70.000000</td>\n",
       "      <td>1.000000</td>\n",
       "    </tr>\n",
       "    <tr>\n",
       "      <th>25%</th>\n",
       "      <td>17.000000</td>\n",
       "      <td>4.000000</td>\n",
       "      <td>105.000000</td>\n",
       "      <td>75.000000</td>\n",
       "      <td>2225.250000</td>\n",
       "      <td>13.900000</td>\n",
       "      <td>73.000000</td>\n",
       "      <td>1.000000</td>\n",
       "    </tr>\n",
       "    <tr>\n",
       "      <th>50%</th>\n",
       "      <td>23.000000</td>\n",
       "      <td>4.000000</td>\n",
       "      <td>151.000000</td>\n",
       "      <td>92.500000</td>\n",
       "      <td>2822.500000</td>\n",
       "      <td>15.500000</td>\n",
       "      <td>76.000000</td>\n",
       "      <td>1.000000</td>\n",
       "    </tr>\n",
       "    <tr>\n",
       "      <th>75%</th>\n",
       "      <td>29.000000</td>\n",
       "      <td>8.000000</td>\n",
       "      <td>302.000000</td>\n",
       "      <td>129.000000</td>\n",
       "      <td>3622.500000</td>\n",
       "      <td>17.125000</td>\n",
       "      <td>79.000000</td>\n",
       "      <td>2.000000</td>\n",
       "    </tr>\n",
       "    <tr>\n",
       "      <th>max</th>\n",
       "      <td>46.600000</td>\n",
       "      <td>8.000000</td>\n",
       "      <td>455.000000</td>\n",
       "      <td>230.000000</td>\n",
       "      <td>5140.000000</td>\n",
       "      <td>24.800000</td>\n",
       "      <td>82.000000</td>\n",
       "      <td>3.000000</td>\n",
       "    </tr>\n",
       "  </tbody>\n",
       "</table>\n",
       "</div>"
      ],
      "text/plain": [
       "              mpg   cylinders  displacement  horsepower       weight  \\\n",
       "count  388.000000  388.000000    388.000000  388.000000   388.000000   \n",
       "mean    23.475773    5.497423    195.668814  104.523196  2983.554124   \n",
       "std      7.836404    1.695866    104.442110   38.678987   851.448791   \n",
       "min      9.000000    4.000000     68.000000   46.000000  1613.000000   \n",
       "25%     17.000000    4.000000    105.000000   75.000000  2225.250000   \n",
       "50%     23.000000    4.000000    151.000000   92.500000  2822.500000   \n",
       "75%     29.000000    8.000000    302.000000  129.000000  3622.500000   \n",
       "max     46.600000    8.000000    455.000000  230.000000  5140.000000   \n",
       "\n",
       "       acceleration        year      origin  \n",
       "count    388.000000  388.000000  388.000000  \n",
       "mean      15.564948   75.984536    1.561856  \n",
       "std        2.762832    3.688066    0.796497  \n",
       "min        8.000000   70.000000    1.000000  \n",
       "25%       13.900000   73.000000    1.000000  \n",
       "50%       15.500000   76.000000    1.000000  \n",
       "75%       17.125000   79.000000    2.000000  \n",
       "max       24.800000   82.000000    3.000000  "
      ]
     },
     "execution_count": 28,
     "metadata": {},
     "output_type": "execute_result"
    }
   ],
   "source": [
    "# dane bez wartości cylinders==3\n",
    "df_raw = df_raw[df_raw['cylinders'] != 3]\n",
    "df_raw.describe()"
   ]
  },
  {
   "cell_type": "markdown",
   "id": "f472381b",
   "metadata": {},
   "source": [
    "# Charakterystyka zbioru danych\n",
    "\n",
    "• mpg - miles per gallon - dane liczbowe ciągłe\n",
    "\n",
    "• cylinders - dane liczbowe całkowite, mogą być traktowane jako kategoria\n",
    "\n",
    "• displacement - dane liczbowe ciągłe\n",
    "\n",
    "• horsepower - dane liczbowe ciągłe\n",
    "\n",
    "• weight - dane liczbowe ciągłe\n",
    "\n",
    "• acceleration - dane liczbowe ciągłe\n",
    "\n",
    "• year - dane liczbowe całkowite, mogą być traktowane jako kategoria\n",
    "\n",
    "• origin - dane liczbowe całkowite, mogą być traktowane jako kategoria\n",
    "\n",
    "• name - nazwa samochodu - dane tekstowe, opisowe. Może ktoś wpadnie na pomysł, aby ich użyć do ML :)\n",
    "\n",
    "Dane mają prawidłowe typy danych w kolumnach, nie ma brakujących wartości, podstawowe nieprawidłowości usunięte.\n",
    "Wstępnie przetworzone dane zapisuję do pliku 'cars_preprocessed.csv'"
   ]
  },
  {
   "cell_type": "code",
   "execution_count": 29,
   "id": "e426bbdb",
   "metadata": {},
   "outputs": [],
   "source": [
    "# Zapisanie wstępnie przetworzonych danych do pliku\n",
    "df_raw.to_csv('cars_preprocessed_2.csv', index=False)"
   ]
  },
  {
   "cell_type": "markdown",
   "id": "5e6c0733",
   "metadata": {},
   "source": [
    "# 2. Przygotowanie zbioru danych do analizy przy pomocy uczenia maszynowego\n",
    "\n",
    "Na potrzeby uczenia maszynowego przygotuję 4 typy zbiorów danych:\n",
    "\n",
    "2.1. Dane kategoryczne zostaną potraktowane jako liczbowe, kolumna 'names' nie bierze udziału w ML\n",
    "\n",
    "2.2. Dane kategoryczne 'origin' rozdzielone (dummies), reszta danych jako dane liczbowe, kolumna 'names' nie bierze udziału w ML\n",
    "\n",
    "2.3. Dane kategoryczne 'origin' i 'cylinders' rozdzielone (dummies), reszta danych jako dane liczbowe, kolumna 'names' nie bierze udziału w ML\n",
    "\n",
    "2.4. Dane kategoryczne 'origin' i 'cylinders' rozdzielone (dummies), reszta danych jako dane liczbowe, kolumna 'names' zostaje rozpisana na słownik i bierze udział w ML  (taka namiastka LLM, to jest dobry moment na uśmiech)\n",
    "\n",
    "\n",
    "Dla każdego przypadku zmienne odstające (outliers) zostaną osobno określone.\n",
    "\n"
   ]
  },
  {
   "cell_type": "markdown",
   "id": "db147c1e",
   "metadata": {},
   "source": [
    "# 2.1 Dane kategoryczne potraktowane jako liczbowe.\n",
    "\n",
    "Kolumna 'names' nie bierze udziału w ML, ale pozostaje w danych"
   ]
  },
  {
   "cell_type": "code",
   "execution_count": 30,
   "id": "5d93e095",
   "metadata": {},
   "outputs": [],
   "source": [
    "# wczytanie danych z pliku\n",
    "df = pd.read_csv('cars_preprocessed_2.csv')"
   ]
  },
  {
   "cell_type": "markdown",
   "id": "4ffc765e",
   "metadata": {},
   "source": [
    "Wykrywanie wartości odstających (outliers).\n",
    "\n",
    "Wykorzystałem metodę z Q1, Q3, IQR * 1.5"
   ]
  },
  {
   "cell_type": "code",
   "execution_count": 31,
   "id": "557bcd4d",
   "metadata": {},
   "outputs": [
    {
     "data": {
      "application/vnd.microsoft.datawrangler.viewer.v0+json": {
       "columns": [
        {
         "name": "index",
         "rawType": "int64",
         "type": "integer"
        },
        {
         "name": "mpg",
         "rawType": "bool",
         "type": "boolean"
        },
        {
         "name": "cylinders",
         "rawType": "bool",
         "type": "boolean"
        },
        {
         "name": "displacement",
         "rawType": "bool",
         "type": "boolean"
        },
        {
         "name": "horsepower",
         "rawType": "bool",
         "type": "boolean"
        },
        {
         "name": "weight",
         "rawType": "bool",
         "type": "boolean"
        },
        {
         "name": "acceleration",
         "rawType": "bool",
         "type": "boolean"
        },
        {
         "name": "year",
         "rawType": "bool",
         "type": "boolean"
        },
        {
         "name": "origin",
         "rawType": "bool",
         "type": "boolean"
        },
        {
         "name": "is_outlier",
         "rawType": "bool",
         "type": "boolean"
        }
       ],
       "ref": "702515d1-96e1-40c6-983c-2693a5aabb55",
       "rows": [
        [
         "0",
         "False",
         "False",
         "False",
         "False",
         "False",
         "False",
         "False",
         "False",
         "False"
        ],
        [
         "1",
         "False",
         "False",
         "False",
         "False",
         "False",
         "False",
         "False",
         "False",
         "False"
        ],
        [
         "2",
         "False",
         "False",
         "False",
         "False",
         "False",
         "False",
         "False",
         "False",
         "False"
        ],
        [
         "3",
         "False",
         "False",
         "False",
         "False",
         "False",
         "False",
         "False",
         "False",
         "False"
        ],
        [
         "4",
         "False",
         "False",
         "False",
         "False",
         "False",
         "False",
         "False",
         "False",
         "False"
        ]
       ],
       "shape": {
        "columns": 9,
        "rows": 5
       }
      },
      "text/html": [
       "<div>\n",
       "<style scoped>\n",
       "    .dataframe tbody tr th:only-of-type {\n",
       "        vertical-align: middle;\n",
       "    }\n",
       "\n",
       "    .dataframe tbody tr th {\n",
       "        vertical-align: top;\n",
       "    }\n",
       "\n",
       "    .dataframe thead th {\n",
       "        text-align: right;\n",
       "    }\n",
       "</style>\n",
       "<table border=\"1\" class=\"dataframe\">\n",
       "  <thead>\n",
       "    <tr style=\"text-align: right;\">\n",
       "      <th></th>\n",
       "      <th>mpg</th>\n",
       "      <th>cylinders</th>\n",
       "      <th>displacement</th>\n",
       "      <th>horsepower</th>\n",
       "      <th>weight</th>\n",
       "      <th>acceleration</th>\n",
       "      <th>year</th>\n",
       "      <th>origin</th>\n",
       "      <th>is_outlier</th>\n",
       "    </tr>\n",
       "  </thead>\n",
       "  <tbody>\n",
       "    <tr>\n",
       "      <th>0</th>\n",
       "      <td>False</td>\n",
       "      <td>False</td>\n",
       "      <td>False</td>\n",
       "      <td>False</td>\n",
       "      <td>False</td>\n",
       "      <td>False</td>\n",
       "      <td>False</td>\n",
       "      <td>False</td>\n",
       "      <td>False</td>\n",
       "    </tr>\n",
       "    <tr>\n",
       "      <th>1</th>\n",
       "      <td>False</td>\n",
       "      <td>False</td>\n",
       "      <td>False</td>\n",
       "      <td>False</td>\n",
       "      <td>False</td>\n",
       "      <td>False</td>\n",
       "      <td>False</td>\n",
       "      <td>False</td>\n",
       "      <td>False</td>\n",
       "    </tr>\n",
       "    <tr>\n",
       "      <th>2</th>\n",
       "      <td>False</td>\n",
       "      <td>False</td>\n",
       "      <td>False</td>\n",
       "      <td>False</td>\n",
       "      <td>False</td>\n",
       "      <td>False</td>\n",
       "      <td>False</td>\n",
       "      <td>False</td>\n",
       "      <td>False</td>\n",
       "    </tr>\n",
       "    <tr>\n",
       "      <th>3</th>\n",
       "      <td>False</td>\n",
       "      <td>False</td>\n",
       "      <td>False</td>\n",
       "      <td>False</td>\n",
       "      <td>False</td>\n",
       "      <td>False</td>\n",
       "      <td>False</td>\n",
       "      <td>False</td>\n",
       "      <td>False</td>\n",
       "    </tr>\n",
       "    <tr>\n",
       "      <th>4</th>\n",
       "      <td>False</td>\n",
       "      <td>False</td>\n",
       "      <td>False</td>\n",
       "      <td>False</td>\n",
       "      <td>False</td>\n",
       "      <td>False</td>\n",
       "      <td>False</td>\n",
       "      <td>False</td>\n",
       "      <td>False</td>\n",
       "    </tr>\n",
       "  </tbody>\n",
       "</table>\n",
       "</div>"
      ],
      "text/plain": [
       "     mpg  cylinders  displacement  horsepower  weight  acceleration   year  \\\n",
       "0  False      False         False       False   False         False  False   \n",
       "1  False      False         False       False   False         False  False   \n",
       "2  False      False         False       False   False         False  False   \n",
       "3  False      False         False       False   False         False  False   \n",
       "4  False      False         False       False   False         False  False   \n",
       "\n",
       "   origin  is_outlier  \n",
       "0   False       False  \n",
       "1   False       False  \n",
       "2   False       False  \n",
       "3   False       False  \n",
       "4   False       False  "
      ]
     },
     "execution_count": 31,
     "metadata": {},
     "output_type": "execute_result"
    }
   ],
   "source": [
    "# w DataFrame df_outliers zawarte są wartości bool wskazujące na wykrycie outliers\n",
    "# nazwy kolumn analogicznie jak w danych źródłowych\n",
    "df_outliers = pd.DataFrame()\n",
    "df_numeric = df.iloc[:, 0:8]    # w danych numerycznych pomijam kolumnę names \n",
    "\n",
    "for col in df_numeric.columns:\n",
    "    # obliczenie Q1, Q3, IQR\n",
    "    Q1 = df_numeric[col].quantile(0.25)\n",
    "    Q3 = df_numeric[col].quantile(0.75)\n",
    "    IQR = Q3 - Q1\n",
    "    \n",
    "    # wykrycie outliers\n",
    "    outliers = (df_numeric[col] < (Q1 - 1.5 * IQR)) | (df_numeric[col] > (Q3 + 1.5 * IQR))\n",
    "    \n",
    "    # dodanie kolumny do DataFrame df_outliers\n",
    "    df_outliers[col] = outliers     # zawartość pętli for napisał czat :)\n",
    "\n",
    "df_outliers['is_outlier'] = df_outliers.any(axis=1)\n",
    "\n",
    "df_numeric.shape\n",
    "df_outliers.shape\n",
    "df_outliers.head()"
   ]
  },
  {
   "cell_type": "code",
   "execution_count": 32,
   "id": "23285fc1",
   "metadata": {},
   "outputs": [
    {
     "data": {
      "text/plain": [
       "np.int64(17)"
      ]
     },
     "execution_count": 32,
     "metadata": {},
     "output_type": "execute_result"
    }
   ],
   "source": [
    "# sprawdzenie ilości wykrytych outliers\n",
    "df_outliers['is_outlier'].sum()"
   ]
  },
  {
   "cell_type": "markdown",
   "id": "cafcf645",
   "metadata": {},
   "source": [
    "W tym przypadku zbiorze 'cars_preprocessed.csv' wykryto 17 wartości odstających (outliers)."
   ]
  },
  {
   "cell_type": "code",
   "execution_count": 33,
   "id": "4dd35ddd",
   "metadata": {},
   "outputs": [
    {
     "data": {
      "text/plain": [
       "(371, 9)"
      ]
     },
     "execution_count": 33,
     "metadata": {},
     "output_type": "execute_result"
    }
   ],
   "source": [
    "# usunięcie outliers z danych\n",
    "df_no_outl = df[~df_outliers['is_outlier']].copy()\n",
    "df_no_outl.shape"
   ]
  },
  {
   "cell_type": "code",
   "execution_count": 34,
   "id": "2f0a8b1f",
   "metadata": {},
   "outputs": [],
   "source": [
    "# zapisanie danych do pliku\n",
    "df_no_outl.to_csv('cars_4_ML_no_dummy_cleared.csv', index=False)"
   ]
  },
  {
   "cell_type": "markdown",
   "id": "a32c18dd",
   "metadata": {},
   "source": [
    "## 2.2. Dane kategoryczne 'origin' rozdzielone (dummies), reszta danych jako dane liczbowe\n",
    "\n",
    "Kolumna 'names' nie bierze udziału w ML"
   ]
  },
  {
   "cell_type": "code",
   "execution_count": 35,
   "id": "5c91d26d",
   "metadata": {},
   "outputs": [],
   "source": [
    "# wczytanie danych z pliku\n",
    "df = pd.read_csv('cars_preprocessed.csv')"
   ]
  },
  {
   "cell_type": "code",
   "execution_count": 36,
   "id": "97ef2e7c",
   "metadata": {},
   "outputs": [
    {
     "name": "stdout",
     "output_type": "stream",
     "text": [
      "<class 'pandas.core.frame.DataFrame'>\n",
      "RangeIndex: 388 entries, 0 to 387\n",
      "Data columns (total 11 columns):\n",
      " #   Column        Non-Null Count  Dtype  \n",
      "---  ------        --------------  -----  \n",
      " 0   mpg           388 non-null    float64\n",
      " 1   cylinders     388 non-null    int64  \n",
      " 2   displacement  388 non-null    float64\n",
      " 3   horsepower    388 non-null    int64  \n",
      " 4   weight        388 non-null    int64  \n",
      " 5   acceleration  388 non-null    float64\n",
      " 6   year          388 non-null    int64  \n",
      " 7   name          388 non-null    object \n",
      " 8   origin_1      388 non-null    bool   \n",
      " 9   origin_2      388 non-null    bool   \n",
      " 10  origin_3      388 non-null    bool   \n",
      "dtypes: bool(3), float64(3), int64(4), object(1)\n",
      "memory usage: 25.5+ KB\n"
     ]
    }
   ],
   "source": [
    "# przygotowanie danych, rozpisanie 'origin' jako dummies\n",
    "df_origin_dummy = pd.get_dummies(df['origin'], prefix='origin')\n",
    "df_dummy = pd.concat([df, df_origin_dummy], axis=1)\n",
    "df_dummy = df_dummy.drop(columns=['origin'])  # usunięcie kolumny 'origin'\n",
    "df_dummy.info()"
   ]
  },
  {
   "cell_type": "markdown",
   "id": "95fcfa0a",
   "metadata": {},
   "source": [
    "Wykrywanie wartości odstających (outliers). Dla każdej kategorii w 'origin' dane odstające są osobno sa wykrywane.\n",
    "\n",
    "Wykorzystałem metodę z Q1, Q3, IQR * 1.5"
   ]
  },
  {
   "cell_type": "code",
   "execution_count": 37,
   "id": "e06536ab",
   "metadata": {},
   "outputs": [
    {
     "name": "stdout",
     "output_type": "stream",
     "text": [
      "mpg_origin_1   ilość outliers: 3\n",
      "mpg_origin_2   ilość outliers: 5\n",
      "mpg_origin_3   ilość outliers: 1\n",
      "cylinders_origin_1   ilość outliers: 0\n",
      "cylinders_origin_2   ilość outliers: 7\n",
      "cylinders_origin_3   ilość outliers: 6\n",
      "displacement_origin_1   ilość outliers: 0\n",
      "displacement_origin_2   ilość outliers: 4\n",
      "displacement_origin_3   ilość outliers: 2\n",
      "horsepower_origin_1   ilość outliers: 0\n",
      "horsepower_origin_2   ilość outliers: 2\n",
      "horsepower_origin_3   ilość outliers: 0\n",
      "weight_origin_1   ilość outliers: 0\n",
      "weight_origin_2   ilość outliers: 0\n",
      "weight_origin_3   ilość outliers: 0\n",
      "acceleration_origin_1   ilość outliers: 0\n",
      "acceleration_origin_2   ilość outliers: 0\n",
      "acceleration_origin_3   ilość outliers: 0\n",
      "year_origin_1   ilość outliers: 0\n",
      "year_origin_2   ilość outliers: 0\n",
      "year_origin_3   ilość outliers: 0\n",
      "--------------------------------------------------\n",
      "Łączna ilość wykrytych outliers: 22\n"
     ]
    }
   ],
   "source": [
    "# w DataFrame df_outliers zawarte są wartości bool wskazujące na wykrycie outliers\n",
    "# nazwy kolumn analogicznie jak w danych źródłowych z uwzględnieniem kategorii, dla której zostały policzone\n",
    "#  w danych pomijam kolumnę names \n",
    "\n",
    "df_outliers = pd.DataFrame()\n",
    "df_numeric = df_dummy.iloc[:, 0:7]    \n",
    "df_categorical = df_dummy.iloc[:, 8:]  # 'origin' jako dane kategoryczne\n",
    "\n",
    "for col_num in df_numeric.columns:\n",
    "    for col_cat in df_categorical.columns:\n",
    "        filter = df_dummy[col_cat] == 1 \n",
    "        Q1 = df_dummy.loc[filter, col_num].quantile(0.25)\n",
    "        Q3 = df_dummy.loc[filter, col_num].quantile(0.75)\n",
    "        IQR = Q3 - Q1\n",
    "        outliers = ((df_dummy[col_num] < (Q1 - 1.5 * IQR )) & filter  ) | ((df_dummy[col_num] > (Q3 + 1.5 * IQR)) & filter)\n",
    "        col_name = col_num+ '_' + col_cat\n",
    "        df_outliers[col_name] = outliers\n",
    "        print(col_name, '  ilość outliers:', outliers.sum())\n",
    "\n",
    "df_outliers['is_outlier'] = df_outliers.any(axis=1)\n",
    "\n",
    "print('--------------------------------------------------')\n",
    "print('Łączna ilość wykrytych outliers:', df_outliers['is_outlier'].sum())\n"
   ]
  },
  {
   "cell_type": "markdown",
   "id": "b36a0736",
   "metadata": {},
   "source": [
    "W tym przypadku zbiorze 'cars_preprocessed.csv' wykryto 22 wartości odstające (outliers)."
   ]
  },
  {
   "cell_type": "code",
   "execution_count": 38,
   "id": "be78a2b4",
   "metadata": {},
   "outputs": [
    {
     "data": {
      "text/plain": [
       "(366, 11)"
      ]
     },
     "execution_count": 38,
     "metadata": {},
     "output_type": "execute_result"
    }
   ],
   "source": [
    "# usunięcie outliers z danych\n",
    "df_dummy_no_outl = df_dummy[~df_outliers['is_outlier']].copy()\n",
    "df_dummy_no_outl.shape"
   ]
  },
  {
   "cell_type": "code",
   "execution_count": 39,
   "id": "c67e6edf",
   "metadata": {},
   "outputs": [],
   "source": [
    "# zapisanie danych do pliku\n",
    "df_dummy_no_outl.to_csv('cars_4_ML_dummy_origin_cleared.csv', index=False)"
   ]
  },
  {
   "cell_type": "markdown",
   "id": "60436ffe",
   "metadata": {},
   "source": [
    "## 2.3. Dane kategoryczne 'origin' i 'cylinders' rozdzielone (dummies), reszta danych jako dane liczbowe.\n",
    "\n",
    "Kolumna 'names' nie bierze udziału w ML"
   ]
  },
  {
   "cell_type": "code",
   "execution_count": 40,
   "id": "52257abb",
   "metadata": {},
   "outputs": [],
   "source": [
    "# wczytanie danych z pliku\n",
    "df = pd.read_csv('cars_preprocessed.csv')"
   ]
  },
  {
   "cell_type": "code",
   "execution_count": 41,
   "id": "5fa2ad6e",
   "metadata": {},
   "outputs": [
    {
     "name": "stdout",
     "output_type": "stream",
     "text": [
      "<class 'pandas.core.frame.DataFrame'>\n",
      "RangeIndex: 388 entries, 0 to 387\n",
      "Data columns (total 14 columns):\n",
      " #   Column        Non-Null Count  Dtype  \n",
      "---  ------        --------------  -----  \n",
      " 0   mpg           388 non-null    float64\n",
      " 1   displacement  388 non-null    float64\n",
      " 2   horsepower    388 non-null    int64  \n",
      " 3   weight        388 non-null    int64  \n",
      " 4   acceleration  388 non-null    float64\n",
      " 5   year          388 non-null    int64  \n",
      " 6   name          388 non-null    object \n",
      " 7   origin_1      388 non-null    bool   \n",
      " 8   origin_2      388 non-null    bool   \n",
      " 9   origin_3      388 non-null    bool   \n",
      " 10  cylinders_4   388 non-null    bool   \n",
      " 11  cylinders_5   388 non-null    bool   \n",
      " 12  cylinders_6   388 non-null    bool   \n",
      " 13  cylinders_8   388 non-null    bool   \n",
      "dtypes: bool(7), float64(3), int64(3), object(1)\n",
      "memory usage: 24.0+ KB\n"
     ]
    }
   ],
   "source": [
    "# przygotowanie danych, rozpisanie 'origin' oraz 'cylinders' jako dummies\n",
    "df_origin_dummy = pd.get_dummies(df['origin'], prefix='origin')\n",
    "df_cylinders_dummy = pd.get_dummies(df['cylinders'], prefix='cylinders')\n",
    "df_dummy = pd.concat([df, df_origin_dummy, df_cylinders_dummy], axis=1)\n",
    "df_dummy = df_dummy.drop(columns=['origin', 'cylinders'])  # usunięcie kolumny 'origin' i 'cylinders'\n",
    "df_dummy.info()"
   ]
  },
  {
   "cell_type": "markdown",
   "id": "577cb016",
   "metadata": {},
   "source": [
    "Wykrywanie wartości odstających (outliers). Dla każdej kategorii w 'origin' oraz 'cylinders' dane odstające są osobno sa wykrywane.\n",
    "\n",
    "Wykorzystałem metodę z Q1, Q3, IQR * 1.5"
   ]
  },
  {
   "cell_type": "code",
   "execution_count": 42,
   "id": "20990fd2",
   "metadata": {},
   "outputs": [
    {
     "name": "stdout",
     "output_type": "stream",
     "text": [
      "--------------------------------------------------\n",
      "Łączna ilość wykrytych outliers: 31\n"
     ]
    }
   ],
   "source": [
    "# w DataFrame df_outliers zawarte są wartości bool wskazujące na wykrycie outliers\n",
    "# nazwy kolumn analogicznie jak w danych źródłowych z uwzględnieniem kategorii, dla której zostały policzone\n",
    "#  w danych pomijam kolumnę names \n",
    "\n",
    "df_outliers = pd.DataFrame()\n",
    "df_numeric = df_dummy.iloc[:, 0:6]    \n",
    "df_categorical = df_dummy.iloc[:, 7:]  # 'origin' oraz 'cylinders' jako dane kategoryczne\n",
    "\n",
    "for col_num in df_numeric.columns:\n",
    "    for col_cat in df_categorical.columns:\n",
    "        filter = df_dummy[col_cat] == 1 \n",
    "        Q1 = df_dummy.loc[filter, col_num].quantile(0.25)\n",
    "        Q3 = df_dummy.loc[filter, col_num].quantile(0.75)\n",
    "        IQR = Q3 - Q1\n",
    "        outliers = ((df_dummy[col_num] < (Q1 - 1.5 * IQR )) & filter  ) | ((df_dummy[col_num] > (Q3 + 1.5 * IQR)) & filter)\n",
    "        col_name = col_num+ '_' + col_cat\n",
    "        df_outliers[col_name] = outliers\n",
    "        #print(col_name, '  ilość outliers:', outliers.sum())\n",
    "\n",
    "df_outliers['is_outlier'] = df_outliers.any(axis=1)\n",
    "\n",
    "print('--------------------------------------------------')\n",
    "print('Łączna ilość wykrytych outliers:', df_outliers['is_outlier'].sum())\n"
   ]
  },
  {
   "cell_type": "markdown",
   "id": "986dcce2",
   "metadata": {},
   "source": [
    "W tym przypadku zbiorze 'cars_preprocessed.csv' wykryto 31 wartości odstających (outliers)."
   ]
  },
  {
   "cell_type": "code",
   "execution_count": 43,
   "id": "9170c336",
   "metadata": {},
   "outputs": [
    {
     "data": {
      "text/plain": [
       "(357, 14)"
      ]
     },
     "execution_count": 43,
     "metadata": {},
     "output_type": "execute_result"
    }
   ],
   "source": [
    "# usunięcie outliers z danych\n",
    "df_dummy_all_no_outl = df_dummy[~df_outliers['is_outlier']].copy()\n",
    "df_dummy_all_no_outl.shape"
   ]
  },
  {
   "cell_type": "code",
   "execution_count": 44,
   "id": "91af591b",
   "metadata": {},
   "outputs": [],
   "source": [
    "# zapisanie danych do pliku\n",
    "df_dummy_all_no_outl.to_csv('cars_4_ML_dummy_all_cleared.csv', index=False)"
   ]
  },
  {
   "cell_type": "markdown",
   "id": "8940a220",
   "metadata": {},
   "source": [
    "## 2.4. Dane kategoryczne 'origin' i 'cylinders' rozdzielone (dummies), reszta danych jako dane liczbowe, kolumna 'names' zostaje rozpisana na słownik i bierze udział w ML \n",
    "\n",
    "Uzupełnienie danych o słownik na podstawie kolumny 'names'. Dane słownikowe w postaci kategorii (dummies)."
   ]
  },
  {
   "cell_type": "code",
   "execution_count": 45,
   "id": "8c40b214",
   "metadata": {},
   "outputs": [
    {
     "name": "stdout",
     "output_type": "stream",
     "text": [
      "Ilość unikalnych cech w kolumnie names: 287\n"
     ]
    }
   ],
   "source": [
    "feature_str_list = []\n",
    "for i in df_dummy_all_no_outl['name'].tolist():\n",
    "    i_split = i.split(' ')\n",
    "    for i1 in i_split:\n",
    "        feature_str_list = feature_str_list + [i1]\n",
    "        \n",
    "feature_set = set(feature_str_list)\n",
    "print('Ilość unikalnych cech w kolumnie names:', len(feature_set))\n",
    "\n",
    "df_dummy_all_no_outl_LLM = df_dummy_all_no_outl.copy()\n",
    "names = df_dummy_all_no_outl['name'].to_numpy(dtype=str).copy()\n",
    "\n",
    "# wyłączenie komunikatów warnings\n",
    "# w tym przypadku poniższy kod generuje macierz rzadką\n",
    "import warnings\n",
    "warnings.simplefilter(action='ignore', category=Warning)\n",
    "\n",
    "for feature in feature_set:\n",
    "    col_name = 'name_' + feature\n",
    "    #for name in np.nditer(names):\n",
    "    df_dummy_all_no_outl_LLM[col_name] = np.strings.count(names, feature, start=0, end=None).reshape((-1,))\n",
    "\n",
    "    #print(temp)\n",
    "    #assert 0, 'Przerwano wykonywanie'\n",
    "            \n",
    "#print(df_dummy_all_no_outl_LLM.info())\n",
    "#print(df_dummy_all_no_outl_LLM.head())"
   ]
  },
  {
   "cell_type": "code",
   "execution_count": 46,
   "id": "766dfd1f",
   "metadata": {},
   "outputs": [],
   "source": [
    "# zapisanie danych do pliku\n",
    "df_dummy_all_no_outl_LLM.to_csv('cars_4_ML_dummy_all_LLM_cleared.csv', index=False)"
   ]
  }
 ],
 "metadata": {
  "kernelspec": {
   "display_name": "Python 3",
   "language": "python",
   "name": "python3"
  },
  "language_info": {
   "codemirror_mode": {
    "name": "ipython",
    "version": 3
   },
   "file_extension": ".py",
   "mimetype": "text/x-python",
   "name": "python",
   "nbconvert_exporter": "python",
   "pygments_lexer": "ipython3",
   "version": "3.13.5"
  }
 },
 "nbformat": 4,
 "nbformat_minor": 5
}
